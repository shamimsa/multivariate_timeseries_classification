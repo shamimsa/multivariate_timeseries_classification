{
 "cells": [
  {
   "cell_type": "markdown",
   "metadata": {},
   "source": [
    "# Multivariate Time Series Classification for Event Prediction"
   ]
  },
  {
   "cell_type": "markdown",
   "metadata": {},
   "source": [
    "## Problem Description"
   ]
  },
  {
   "cell_type": "markdown",
   "metadata": {},
   "source": [
    "Goal of this challenge is to perform multivariate timeseries classification. Each timeseries in the dataset consists of 89 observations, each of dimension 14 (and hence multivariate). There are 3 possible labels {0, 1, 2}, where labels 1 and 2 are indicators of event occurrences within the duration of the timeseries and a label of 0 stands for the no-event class. Since both labels 1 and 2 indicate events, they can be interpreted as one label \"positive\" representing one class versus label 0 being indicator of the \"negative class\". Thus, the classification problem can be treated as a binary classification problem where we predict labels as \"positive\" (label 1) or \"negative\" (label 1). Let's get started! "
   ]
  },
  {
   "cell_type": "markdown",
   "metadata": {},
   "source": [
    "## Getting Started with the Data"
   ]
  },
  {
   "cell_type": "markdown",
   "metadata": {},
   "source": [
    "Let's start out by importing necessary modules and reading the data:"
   ]
  },
  {
   "cell_type": "code",
   "execution_count": 117,
   "metadata": {},
   "outputs": [],
   "source": [
    "from __future__ import division\n",
    "import numpy as np\n",
    "import pandas as pd\n",
    "from pandas import DataFrame, concat\n",
    "import itertools\n",
    "from math import floor, ceil\n",
    "from numpy import random\n",
    "import tsfresh\n",
    "from sklearn import preprocessing\n",
    "from tsfresh.feature_extraction.settings import MinimalFCParameters\n",
    "from sklearn.ensemble import RandomForestClassifier\n",
    "from sklearn.feature_selection import SelectFromModel\n",
    "from sklearn.metrics import accuracy_score, confusion_matrix, classification_report, roc_auc_score, roc_curve, auc, make_scorer, fbeta_score\n",
    "import matplotlib.pyplot as plt\n",
    "from keras import optimizers\n",
    "from keras.optimizers import SGD\n",
    "from keras.models import Sequential, Model\n",
    "from keras.layers import LSTM, Dense, Input, Activation, Bidirectional, Dropout\n",
    "from keras.utils import to_categorical\n",
    "from xgboost import XGBClassifier\n",
    "from sklearn.grid_search import GridSearchCV"
   ]
  },
  {
   "cell_type": "code",
   "execution_count": 139,
   "metadata": {},
   "outputs": [
    {
     "name": "stdout",
     "output_type": "stream",
     "text": [
      "(18245, 17)\n"
     ]
    }
   ],
   "source": [
    "df = pd.read_excel(\"challenge_dataset.xlsx\") \n",
    "df.head()\n",
    "print(df.shape)"
   ]
  },
  {
   "cell_type": "code",
   "execution_count": 140,
   "metadata": {},
   "outputs": [
    {
     "data": {
      "text/html": [
       "<div>\n",
       "<style scoped>\n",
       "    .dataframe tbody tr th:only-of-type {\n",
       "        vertical-align: middle;\n",
       "    }\n",
       "\n",
       "    .dataframe tbody tr th {\n",
       "        vertical-align: top;\n",
       "    }\n",
       "\n",
       "    .dataframe thead th {\n",
       "        text-align: right;\n",
       "    }\n",
       "</style>\n",
       "<table border=\"1\" class=\"dataframe\">\n",
       "  <thead>\n",
       "    <tr style=\"text-align: right;\">\n",
       "      <th></th>\n",
       "      <th>ID_TestSet</th>\n",
       "      <th>bx</th>\n",
       "      <th>by</th>\n",
       "      <th>bz</th>\n",
       "      <th>bl</th>\n",
       "      <th>bm</th>\n",
       "      <th>bn</th>\n",
       "      <th>bmag</th>\n",
       "      <th>vx</th>\n",
       "      <th>vy</th>\n",
       "      <th>vz</th>\n",
       "      <th>vmag</th>\n",
       "      <th>np</th>\n",
       "      <th>tpar</th>\n",
       "      <th>tper</th>\n",
       "      <th>goal</th>\n",
       "    </tr>\n",
       "  </thead>\n",
       "  <tbody>\n",
       "    <tr>\n",
       "      <th>0</th>\n",
       "      <td>2</td>\n",
       "      <td>0.52</td>\n",
       "      <td>3.99</td>\n",
       "      <td>-2.53</td>\n",
       "      <td>0.12</td>\n",
       "      <td>-4.74</td>\n",
       "      <td>-0.33</td>\n",
       "      <td>4.75</td>\n",
       "      <td>-212.49</td>\n",
       "      <td>126.52</td>\n",
       "      <td>94.29</td>\n",
       "      <td>264.67</td>\n",
       "      <td>5.51</td>\n",
       "      <td>141.67</td>\n",
       "      <td>157.74</td>\n",
       "      <td>2</td>\n",
       "    </tr>\n",
       "    <tr>\n",
       "      <th>1</th>\n",
       "      <td>2</td>\n",
       "      <td>-0.46</td>\n",
       "      <td>2.83</td>\n",
       "      <td>-0.37</td>\n",
       "      <td>1.47</td>\n",
       "      <td>-2.49</td>\n",
       "      <td>-0.08</td>\n",
       "      <td>2.89</td>\n",
       "      <td>-205.30</td>\n",
       "      <td>121.80</td>\n",
       "      <td>91.70</td>\n",
       "      <td>255.72</td>\n",
       "      <td>6.51</td>\n",
       "      <td>139.22</td>\n",
       "      <td>154.13</td>\n",
       "      <td>2</td>\n",
       "    </tr>\n",
       "    <tr>\n",
       "      <th>2</th>\n",
       "      <td>2</td>\n",
       "      <td>0.63</td>\n",
       "      <td>3.69</td>\n",
       "      <td>-2.23</td>\n",
       "      <td>0.10</td>\n",
       "      <td>-4.36</td>\n",
       "      <td>-0.12</td>\n",
       "      <td>4.36</td>\n",
       "      <td>-208.85</td>\n",
       "      <td>119.43</td>\n",
       "      <td>89.61</td>\n",
       "      <td>256.73</td>\n",
       "      <td>6.15</td>\n",
       "      <td>144.39</td>\n",
       "      <td>151.92</td>\n",
       "      <td>2</td>\n",
       "    </tr>\n",
       "    <tr>\n",
       "      <th>3</th>\n",
       "      <td>2</td>\n",
       "      <td>1.71</td>\n",
       "      <td>3.79</td>\n",
       "      <td>-1.89</td>\n",
       "      <td>-0.25</td>\n",
       "      <td>-4.46</td>\n",
       "      <td>0.94</td>\n",
       "      <td>4.57</td>\n",
       "      <td>-205.67</td>\n",
       "      <td>124.33</td>\n",
       "      <td>91.95</td>\n",
       "      <td>257.32</td>\n",
       "      <td>6.06</td>\n",
       "      <td>148.72</td>\n",
       "      <td>164.85</td>\n",
       "      <td>2</td>\n",
       "    </tr>\n",
       "    <tr>\n",
       "      <th>4</th>\n",
       "      <td>2</td>\n",
       "      <td>0.69</td>\n",
       "      <td>0.82</td>\n",
       "      <td>0.04</td>\n",
       "      <td>0.05</td>\n",
       "      <td>-0.80</td>\n",
       "      <td>0.72</td>\n",
       "      <td>1.08</td>\n",
       "      <td>-212.35</td>\n",
       "      <td>120.57</td>\n",
       "      <td>95.26</td>\n",
       "      <td>262.10</td>\n",
       "      <td>5.97</td>\n",
       "      <td>183.88</td>\n",
       "      <td>153.38</td>\n",
       "      <td>2</td>\n",
       "    </tr>\n",
       "  </tbody>\n",
       "</table>\n",
       "</div>"
      ],
      "text/plain": [
       "   ID_TestSet    bx    by    bz    bl    bm    bn  bmag      vx      vy  \\\n",
       "0           2  0.52  3.99 -2.53  0.12 -4.74 -0.33  4.75 -212.49  126.52   \n",
       "1           2 -0.46  2.83 -0.37  1.47 -2.49 -0.08  2.89 -205.30  121.80   \n",
       "2           2  0.63  3.69 -2.23  0.10 -4.36 -0.12  4.36 -208.85  119.43   \n",
       "3           2  1.71  3.79 -1.89 -0.25 -4.46  0.94  4.57 -205.67  124.33   \n",
       "4           2  0.69  0.82  0.04  0.05 -0.80  0.72  1.08 -212.35  120.57   \n",
       "\n",
       "      vz    vmag    np    tpar    tper  goal  \n",
       "0  94.29  264.67  5.51  141.67  157.74     2  \n",
       "1  91.70  255.72  6.51  139.22  154.13     2  \n",
       "2  89.61  256.73  6.15  144.39  151.92     2  \n",
       "3  91.95  257.32  6.06  148.72  164.85     2  \n",
       "4  95.26  262.10  5.97  183.88  153.38     2  "
      ]
     },
     "execution_count": 140,
     "metadata": {},
     "output_type": "execute_result"
    }
   ],
   "source": [
    "df = df.drop(['file'],axis=1) # column provides no information\n",
    "df.head()"
   ]
  },
  {
   "cell_type": "code",
   "execution_count": 141,
   "metadata": {},
   "outputs": [
    {
     "name": "stdout",
     "output_type": "stream",
     "text": [
      "ID_TestSet\n",
      "2      [2]\n",
      "5      [1]\n",
      "8      [1]\n",
      "11     [1]\n",
      "14     [2]\n",
      "17     [2]\n",
      "20     [2]\n",
      "23     [2]\n",
      "26     [2]\n",
      "29     [2]\n",
      "32     [2]\n",
      "35     [2]\n",
      "38     [2]\n",
      "41     [2]\n",
      "44     [1]\n",
      "47     [0]\n",
      "50     [1]\n",
      "53     [1]\n",
      "56     [1]\n",
      "59     [2]\n",
      "62     [2]\n",
      "65     [0]\n",
      "68     [2]\n",
      "71     [0]\n",
      "74     [2]\n",
      "77     [0]\n",
      "80     [1]\n",
      "83     [1]\n",
      "86     [2]\n",
      "89     [1]\n",
      "92     [1]\n",
      "95     [0]\n",
      "98     [0]\n",
      "101    [1]\n",
      "104    [1]\n",
      "107    [1]\n",
      "110    [1]\n",
      "113    [1]\n",
      "116    [1]\n",
      "119    [0]\n",
      "122    [0]\n",
      "125    [1]\n",
      "128    [0]\n",
      "131    [1]\n",
      "134    [1]\n",
      "137    [2]\n",
      "140    [2]\n",
      "143    [2]\n",
      "146    [2]\n",
      "149    [1]\n",
      "152    [1]\n",
      "155    [1]\n",
      "158    [1]\n",
      "161    [2]\n",
      "164    [1]\n",
      "167    [1]\n",
      "170    [2]\n",
      "173    [1]\n",
      "176    [2]\n",
      "179    [1]\n",
      "182    [1]\n",
      "185    [2]\n",
      "188    [2]\n",
      "191    [2]\n",
      "194    [2]\n",
      "197    [2]\n",
      "200    [2]\n",
      "203    [1]\n",
      "206    [2]\n",
      "209    [2]\n",
      "212    [1]\n",
      "215    [1]\n",
      "218    [1]\n",
      "221    [1]\n",
      "224    [2]\n",
      "227    [1]\n",
      "230    [1]\n",
      "233    [2]\n",
      "236    [2]\n",
      "239    [2]\n",
      "242    [2]\n",
      "245    [1]\n",
      "248    [1]\n",
      "251    [1]\n",
      "254    [0]\n",
      "257    [0]\n",
      "260    [1]\n",
      "263    [1]\n",
      "266    [0]\n",
      "269    [1]\n",
      "272    [1]\n",
      "275    [0]\n",
      "278    [2]\n",
      "281    [2]\n",
      "284    [2]\n",
      "287    [2]\n",
      "290    [2]\n",
      "293    [2]\n",
      "296    [2]\n",
      "299    [2]\n",
      "302    [0]\n",
      "305    [0]\n",
      "308    [1]\n",
      "311    [2]\n",
      "314    [2]\n",
      "317    [2]\n",
      "320    [2]\n",
      "323    [0]\n",
      "326    [1]\n",
      "329    [1]\n",
      "332    [0]\n",
      "335    [1]\n",
      "338    [1]\n",
      "341    [1]\n",
      "344    [0]\n",
      "347    [1]\n",
      "350    [0]\n",
      "353    [2]\n",
      "356    [0]\n",
      "359    [0]\n",
      "362    [1]\n",
      "365    [0]\n",
      "368    [0]\n",
      "371    [0]\n",
      "374    [1]\n",
      "377    [0]\n",
      "380    [2]\n",
      "383    [2]\n",
      "386    [2]\n",
      "389    [2]\n",
      "392    [2]\n",
      "395    [2]\n",
      "398    [2]\n",
      "401    [2]\n",
      "404    [1]\n",
      "407    [2]\n",
      "410    [2]\n",
      "413    [1]\n",
      "416    [1]\n",
      "419    [1]\n",
      "422    [2]\n",
      "425    [2]\n",
      "428    [2]\n",
      "431    [0]\n",
      "434    [0]\n",
      "437    [1]\n",
      "440    [1]\n",
      "443    [1]\n",
      "446    [0]\n",
      "449    [0]\n",
      "452    [1]\n",
      "455    [0]\n",
      "458    [0]\n",
      "461    [2]\n",
      "464    [1]\n",
      "467    [0]\n",
      "470    [2]\n",
      "473    [0]\n",
      "476    [0]\n",
      "479    [1]\n",
      "482    [0]\n",
      "485    [0]\n",
      "488    [0]\n",
      "491    [2]\n",
      "494    [0]\n",
      "497    [1]\n",
      "500    [1]\n",
      "503    [0]\n",
      "506    [0]\n",
      "509    [1]\n",
      "512    [0]\n",
      "515    [2]\n",
      "518    [2]\n",
      "521    [0]\n",
      "524    [0]\n",
      "527    [0]\n",
      "530    [2]\n",
      "533    [1]\n",
      "536    [0]\n",
      "539    [1]\n",
      "542    [0]\n",
      "545    [0]\n",
      "548    [0]\n",
      "551    [0]\n",
      "554    [1]\n",
      "557    [0]\n",
      "560    [1]\n",
      "563    [0]\n",
      "566    [0]\n",
      "569    [0]\n",
      "572    [0]\n",
      "575    [2]\n",
      "578    [0]\n",
      "581    [1]\n",
      "584    [2]\n",
      "587    [0]\n",
      "590    [2]\n",
      "593    [2]\n",
      "596    [1]\n",
      "599    [0]\n",
      "602    [0]\n",
      "605    [0]\n",
      "608    [0]\n",
      "611    [1]\n",
      "614    [2]\n",
      "dtype: object\n"
     ]
    }
   ],
   "source": [
    "# Sanity check - confirming that all the samples within the same time series have the same \"goal\" label\n",
    "group = df.groupby('ID_TestSet')\n",
    "df2 = group.apply(lambda x: x['goal'].unique())\n",
    "with pd.option_context('display.max_rows', None, 'display.max_columns', None):\n",
    "    print(df2)"
   ]
  },
  {
   "cell_type": "markdown",
   "metadata": {},
   "source": [
    "The above confirms that each timeseries has a unique ground truth label and thus corresponds to either event type 1, event type 2 or no event, and the goal would be to predict these labels."
   ]
  },
  {
   "cell_type": "markdown",
   "metadata": {},
   "source": [
    "## Train-Test Data Split"
   ]
  },
  {
   "cell_type": "markdown",
   "metadata": {},
   "source": [
    "I have randomly chosen 90% of the time series samples to train and build the model and the rest for testing and evaluation purposes. Since the dataset is a relatively small dataset, I chose a larger train-to-test ratio (than the most commonly used ratio of 80-20). This is going to allow the classifier to better train itself. In a real-world setting, same idea could be applied. The way we would approach this problem when a costumer approaches us with a real-world dataset of relatively small size, the idea is to use the bigger portion of the data for training a good classifier, set a small portion aside to validate and test the performance to convince the costumer that our model is reliable, and can be used to make reliable prediction on unseen data in the future."
   ]
  },
  {
   "cell_type": "code",
   "execution_count": 176,
   "metadata": {},
   "outputs": [
    {
     "name": "stdout",
     "output_type": "stream",
     "text": [
      "205\n"
     ]
    }
   ],
   "source": [
    "IDs = list(set(df['ID_TestSet'].tolist())) # get all the time series ID's\n",
    "num_samples = len(IDs)\n",
    "print(num_samples)"
   ]
  },
  {
   "cell_type": "code",
   "execution_count": 178,
   "metadata": {},
   "outputs": [
    {
     "data": {
      "text/plain": [
       "184"
      ]
     },
     "execution_count": 178,
     "metadata": {},
     "output_type": "execute_result"
    }
   ],
   "source": [
    "split_ratio = 0.90\n",
    "train_sz = int(split_ratio * num_samples)\n",
    "train_sz"
   ]
  },
  {
   "cell_type": "code",
   "execution_count": 179,
   "metadata": {},
   "outputs": [
    {
     "data": {
      "text/html": [
       "<div>\n",
       "<style scoped>\n",
       "    .dataframe tbody tr th:only-of-type {\n",
       "        vertical-align: middle;\n",
       "    }\n",
       "\n",
       "    .dataframe tbody tr th {\n",
       "        vertical-align: top;\n",
       "    }\n",
       "\n",
       "    .dataframe thead th {\n",
       "        text-align: right;\n",
       "    }\n",
       "</style>\n",
       "<table border=\"1\" class=\"dataframe\">\n",
       "  <thead>\n",
       "    <tr style=\"text-align: right;\">\n",
       "      <th></th>\n",
       "      <th>ID_TestSet</th>\n",
       "      <th>bx</th>\n",
       "      <th>by</th>\n",
       "      <th>bz</th>\n",
       "      <th>bl</th>\n",
       "      <th>bm</th>\n",
       "      <th>bn</th>\n",
       "      <th>bmag</th>\n",
       "      <th>vx</th>\n",
       "      <th>vy</th>\n",
       "      <th>vz</th>\n",
       "      <th>vmag</th>\n",
       "      <th>np</th>\n",
       "      <th>tpar</th>\n",
       "      <th>tper</th>\n",
       "      <th>goal</th>\n",
       "    </tr>\n",
       "  </thead>\n",
       "  <tbody>\n",
       "    <tr>\n",
       "      <th>0</th>\n",
       "      <td>590</td>\n",
       "      <td>-17.48</td>\n",
       "      <td>-19.70</td>\n",
       "      <td>8.25</td>\n",
       "      <td>5.86</td>\n",
       "      <td>26.29</td>\n",
       "      <td>6.02</td>\n",
       "      <td>27.61</td>\n",
       "      <td>-196.55</td>\n",
       "      <td>-22.74</td>\n",
       "      <td>92.62</td>\n",
       "      <td>218.47</td>\n",
       "      <td>0.13</td>\n",
       "      <td>4086.34</td>\n",
       "      <td>3061.64</td>\n",
       "      <td>2</td>\n",
       "    </tr>\n",
       "    <tr>\n",
       "      <th>1</th>\n",
       "      <td>590</td>\n",
       "      <td>-19.00</td>\n",
       "      <td>-17.82</td>\n",
       "      <td>7.64</td>\n",
       "      <td>4.19</td>\n",
       "      <td>26.50</td>\n",
       "      <td>4.18</td>\n",
       "      <td>27.15</td>\n",
       "      <td>-66.90</td>\n",
       "      <td>-90.38</td>\n",
       "      <td>137.44</td>\n",
       "      <td>177.58</td>\n",
       "      <td>0.12</td>\n",
       "      <td>2661.12</td>\n",
       "      <td>3750.87</td>\n",
       "      <td>2</td>\n",
       "    </tr>\n",
       "    <tr>\n",
       "      <th>2</th>\n",
       "      <td>590</td>\n",
       "      <td>-19.51</td>\n",
       "      <td>-15.25</td>\n",
       "      <td>7.22</td>\n",
       "      <td>2.90</td>\n",
       "      <td>25.54</td>\n",
       "      <td>2.06</td>\n",
       "      <td>25.79</td>\n",
       "      <td>-49.73</td>\n",
       "      <td>-113.70</td>\n",
       "      <td>99.69</td>\n",
       "      <td>159.19</td>\n",
       "      <td>0.13</td>\n",
       "      <td>2372.01</td>\n",
       "      <td>3353.52</td>\n",
       "      <td>2</td>\n",
       "    </tr>\n",
       "    <tr>\n",
       "      <th>3</th>\n",
       "      <td>590</td>\n",
       "      <td>-18.98</td>\n",
       "      <td>-12.83</td>\n",
       "      <td>7.68</td>\n",
       "      <td>2.83</td>\n",
       "      <td>24.00</td>\n",
       "      <td>0.08</td>\n",
       "      <td>24.17</td>\n",
       "      <td>-18.37</td>\n",
       "      <td>-153.80</td>\n",
       "      <td>103.16</td>\n",
       "      <td>186.10</td>\n",
       "      <td>0.14</td>\n",
       "      <td>2291.09</td>\n",
       "      <td>3215.64</td>\n",
       "      <td>2</td>\n",
       "    </tr>\n",
       "    <tr>\n",
       "      <th>4</th>\n",
       "      <td>590</td>\n",
       "      <td>-17.49</td>\n",
       "      <td>-11.80</td>\n",
       "      <td>7.94</td>\n",
       "      <td>3.36</td>\n",
       "      <td>22.29</td>\n",
       "      <td>-0.32</td>\n",
       "      <td>22.54</td>\n",
       "      <td>-57.63</td>\n",
       "      <td>-183.42</td>\n",
       "      <td>95.02</td>\n",
       "      <td>214.47</td>\n",
       "      <td>0.13</td>\n",
       "      <td>2120.98</td>\n",
       "      <td>3299.84</td>\n",
       "      <td>2</td>\n",
       "    </tr>\n",
       "  </tbody>\n",
       "</table>\n",
       "</div>"
      ],
      "text/plain": [
       "   ID_TestSet     bx     by    bz    bl     bm    bn   bmag      vx      vy  \\\n",
       "0         590 -17.48 -19.70  8.25  5.86  26.29  6.02  27.61 -196.55  -22.74   \n",
       "1         590 -19.00 -17.82  7.64  4.19  26.50  4.18  27.15  -66.90  -90.38   \n",
       "2         590 -19.51 -15.25  7.22  2.90  25.54  2.06  25.79  -49.73 -113.70   \n",
       "3         590 -18.98 -12.83  7.68  2.83  24.00  0.08  24.17  -18.37 -153.80   \n",
       "4         590 -17.49 -11.80  7.94  3.36  22.29 -0.32  22.54  -57.63 -183.42   \n",
       "\n",
       "       vz    vmag    np     tpar     tper  goal  \n",
       "0   92.62  218.47  0.13  4086.34  3061.64     2  \n",
       "1  137.44  177.58  0.12  2661.12  3750.87     2  \n",
       "2   99.69  159.19  0.13  2372.01  3353.52     2  \n",
       "3  103.16  186.10  0.14  2291.09  3215.64     2  \n",
       "4   95.02  214.47  0.13  2120.98  3299.84     2  "
      ]
     },
     "execution_count": 179,
     "metadata": {},
     "output_type": "execute_result"
    }
   ],
   "source": [
    "np.random.seed(0)\n",
    "train_ids = random.choice(IDs, train_sz, replace=False) # Get random timeseries IDs for train\n",
    "group = df.groupby('ID_TestSet')\n",
    "train = []\n",
    "for ID in train_ids:\n",
    "    train_subset = group.get_group(ID)\n",
    "    train.append(train_subset)\n",
    "train = pd.concat(train).reset_index(drop=True)\n",
    "train.head()"
   ]
  },
  {
   "cell_type": "code",
   "execution_count": 180,
   "metadata": {},
   "outputs": [
    {
     "data": {
      "text/plain": [
       "21"
      ]
     },
     "execution_count": 180,
     "metadata": {},
     "output_type": "execute_result"
    }
   ],
   "source": [
    "test_sz = num_samples - train_sz\n",
    "test_sz"
   ]
  },
  {
   "cell_type": "code",
   "execution_count": 181,
   "metadata": {},
   "outputs": [
    {
     "data": {
      "text/html": [
       "<div>\n",
       "<style scoped>\n",
       "    .dataframe tbody tr th:only-of-type {\n",
       "        vertical-align: middle;\n",
       "    }\n",
       "\n",
       "    .dataframe tbody tr th {\n",
       "        vertical-align: top;\n",
       "    }\n",
       "\n",
       "    .dataframe thead th {\n",
       "        text-align: right;\n",
       "    }\n",
       "</style>\n",
       "<table border=\"1\" class=\"dataframe\">\n",
       "  <thead>\n",
       "    <tr style=\"text-align: right;\">\n",
       "      <th></th>\n",
       "      <th>ID_TestSet</th>\n",
       "      <th>bx</th>\n",
       "      <th>by</th>\n",
       "      <th>bz</th>\n",
       "      <th>bl</th>\n",
       "      <th>bm</th>\n",
       "      <th>bn</th>\n",
       "      <th>bmag</th>\n",
       "      <th>vx</th>\n",
       "      <th>vy</th>\n",
       "      <th>vz</th>\n",
       "      <th>vmag</th>\n",
       "      <th>np</th>\n",
       "      <th>tpar</th>\n",
       "      <th>tper</th>\n",
       "      <th>goal</th>\n",
       "    </tr>\n",
       "  </thead>\n",
       "  <tbody>\n",
       "    <tr>\n",
       "      <th>0</th>\n",
       "      <td>14</td>\n",
       "      <td>9.71</td>\n",
       "      <td>5.56</td>\n",
       "      <td>15.22</td>\n",
       "      <td>17.87</td>\n",
       "      <td>-5.99</td>\n",
       "      <td>-1.31</td>\n",
       "      <td>18.88</td>\n",
       "      <td>-174.41</td>\n",
       "      <td>-141.25</td>\n",
       "      <td>129.96</td>\n",
       "      <td>259.35</td>\n",
       "      <td>2.27</td>\n",
       "      <td>307.47</td>\n",
       "      <td>180.55</td>\n",
       "      <td>2</td>\n",
       "    </tr>\n",
       "    <tr>\n",
       "      <th>1</th>\n",
       "      <td>14</td>\n",
       "      <td>8.57</td>\n",
       "      <td>4.49</td>\n",
       "      <td>16.60</td>\n",
       "      <td>18.74</td>\n",
       "      <td>-4.10</td>\n",
       "      <td>-1.16</td>\n",
       "      <td>19.21</td>\n",
       "      <td>-140.61</td>\n",
       "      <td>-99.62</td>\n",
       "      <td>129.97</td>\n",
       "      <td>215.85</td>\n",
       "      <td>2.27</td>\n",
       "      <td>244.42</td>\n",
       "      <td>155.83</td>\n",
       "      <td>2</td>\n",
       "    </tr>\n",
       "    <tr>\n",
       "      <th>2</th>\n",
       "      <td>14</td>\n",
       "      <td>8.58</td>\n",
       "      <td>3.54</td>\n",
       "      <td>17.03</td>\n",
       "      <td>19.08</td>\n",
       "      <td>-3.47</td>\n",
       "      <td>-0.40</td>\n",
       "      <td>19.40</td>\n",
       "      <td>-135.13</td>\n",
       "      <td>-104.07</td>\n",
       "      <td>122.05</td>\n",
       "      <td>209.74</td>\n",
       "      <td>2.65</td>\n",
       "      <td>195.67</td>\n",
       "      <td>133.88</td>\n",
       "      <td>2</td>\n",
       "    </tr>\n",
       "    <tr>\n",
       "      <th>3</th>\n",
       "      <td>14</td>\n",
       "      <td>9.32</td>\n",
       "      <td>4.04</td>\n",
       "      <td>16.48</td>\n",
       "      <td>18.83</td>\n",
       "      <td>-4.49</td>\n",
       "      <td>-0.37</td>\n",
       "      <td>19.36</td>\n",
       "      <td>-171.30</td>\n",
       "      <td>-123.13</td>\n",
       "      <td>141.35</td>\n",
       "      <td>253.94</td>\n",
       "      <td>1.86</td>\n",
       "      <td>219.00</td>\n",
       "      <td>184.30</td>\n",
       "      <td>2</td>\n",
       "    </tr>\n",
       "    <tr>\n",
       "      <th>4</th>\n",
       "      <td>14</td>\n",
       "      <td>10.29</td>\n",
       "      <td>5.31</td>\n",
       "      <td>15.23</td>\n",
       "      <td>18.04</td>\n",
       "      <td>-6.31</td>\n",
       "      <td>-0.80</td>\n",
       "      <td>19.12</td>\n",
       "      <td>-168.38</td>\n",
       "      <td>-127.08</td>\n",
       "      <td>155.89</td>\n",
       "      <td>262.30</td>\n",
       "      <td>2.41</td>\n",
       "      <td>174.69</td>\n",
       "      <td>145.10</td>\n",
       "      <td>2</td>\n",
       "    </tr>\n",
       "  </tbody>\n",
       "</table>\n",
       "</div>"
      ],
      "text/plain": [
       "   ID_TestSet     bx    by     bz     bl    bm    bn   bmag      vx      vy  \\\n",
       "0          14   9.71  5.56  15.22  17.87 -5.99 -1.31  18.88 -174.41 -141.25   \n",
       "1          14   8.57  4.49  16.60  18.74 -4.10 -1.16  19.21 -140.61  -99.62   \n",
       "2          14   8.58  3.54  17.03  19.08 -3.47 -0.40  19.40 -135.13 -104.07   \n",
       "3          14   9.32  4.04  16.48  18.83 -4.49 -0.37  19.36 -171.30 -123.13   \n",
       "4          14  10.29  5.31  15.23  18.04 -6.31 -0.80  19.12 -168.38 -127.08   \n",
       "\n",
       "       vz    vmag    np    tpar    tper  goal  \n",
       "0  129.96  259.35  2.27  307.47  180.55     2  \n",
       "1  129.97  215.85  2.27  244.42  155.83     2  \n",
       "2  122.05  209.74  2.65  195.67  133.88     2  \n",
       "3  141.35  253.94  1.86  219.00  184.30     2  \n",
       "4  155.89  262.30  2.41  174.69  145.10     2  "
      ]
     },
     "execution_count": 181,
     "metadata": {},
     "output_type": "execute_result"
    }
   ],
   "source": [
    "test_ids = [ID for ID in IDs if ID not in train_ids]\n",
    "test = []\n",
    "for ID in test_ids:\n",
    "    test_subset = group.get_group(ID)\n",
    "    test.append(test_subset)\n",
    "test = pd.concat(test).reset_index(drop=True)\n",
    "test.head()"
   ]
  },
  {
   "cell_type": "code",
   "execution_count": 182,
   "metadata": {},
   "outputs": [
    {
     "name": "stdout",
     "output_type": "stream",
     "text": [
      "(16376, 16)\n",
      "(1869, 16)\n"
     ]
    }
   ],
   "source": [
    "print(train.shape)\n",
    "print(test.shape)"
   ]
  },
  {
   "cell_type": "markdown",
   "metadata": {},
   "source": [
    "Next, let's extract the train and test labels and then drop the corresponding label columns:"
   ]
  },
  {
   "cell_type": "code",
   "execution_count": 183,
   "metadata": {},
   "outputs": [
    {
     "name": "stdout",
     "output_type": "stream",
     "text": [
      "(184, 1)\n"
     ]
    },
    {
     "data": {
      "text/html": [
       "<div>\n",
       "<style scoped>\n",
       "    .dataframe tbody tr th:only-of-type {\n",
       "        vertical-align: middle;\n",
       "    }\n",
       "\n",
       "    .dataframe tbody tr th {\n",
       "        vertical-align: top;\n",
       "    }\n",
       "\n",
       "    .dataframe thead th {\n",
       "        text-align: right;\n",
       "    }\n",
       "</style>\n",
       "<table border=\"1\" class=\"dataframe\">\n",
       "  <thead>\n",
       "    <tr style=\"text-align: right;\">\n",
       "      <th></th>\n",
       "      <th>0</th>\n",
       "    </tr>\n",
       "    <tr>\n",
       "      <th>ID_TestSet</th>\n",
       "      <th></th>\n",
       "    </tr>\n",
       "  </thead>\n",
       "  <tbody>\n",
       "    <tr>\n",
       "      <th>2</th>\n",
       "      <td>2</td>\n",
       "    </tr>\n",
       "    <tr>\n",
       "      <th>5</th>\n",
       "      <td>1</td>\n",
       "    </tr>\n",
       "    <tr>\n",
       "      <th>8</th>\n",
       "      <td>1</td>\n",
       "    </tr>\n",
       "    <tr>\n",
       "      <th>11</th>\n",
       "      <td>1</td>\n",
       "    </tr>\n",
       "    <tr>\n",
       "      <th>17</th>\n",
       "      <td>2</td>\n",
       "    </tr>\n",
       "    <tr>\n",
       "      <th>20</th>\n",
       "      <td>2</td>\n",
       "    </tr>\n",
       "    <tr>\n",
       "      <th>23</th>\n",
       "      <td>2</td>\n",
       "    </tr>\n",
       "    <tr>\n",
       "      <th>26</th>\n",
       "      <td>2</td>\n",
       "    </tr>\n",
       "    <tr>\n",
       "      <th>29</th>\n",
       "      <td>2</td>\n",
       "    </tr>\n",
       "    <tr>\n",
       "      <th>35</th>\n",
       "      <td>2</td>\n",
       "    </tr>\n",
       "  </tbody>\n",
       "</table>\n",
       "</div>"
      ],
      "text/plain": [
       "            0\n",
       "ID_TestSet   \n",
       "2           2\n",
       "5           1\n",
       "8           1\n",
       "11          1\n",
       "17          2\n",
       "20          2\n",
       "23          2\n",
       "26          2\n",
       "29          2\n",
       "35          2"
      ]
     },
     "execution_count": 183,
     "metadata": {},
     "output_type": "execute_result"
    }
   ],
   "source": [
    "# training labels\n",
    "group_train = train.groupby('ID_TestSet')\n",
    "train_goal_df = group_train.apply(lambda x: x['goal'].unique())\n",
    "train_goal_df = train_goal_df.apply(pd.Series)\n",
    "print(train_goal_df.shape)\n",
    "train_goal_df.head(10)"
   ]
  },
  {
   "cell_type": "code",
   "execution_count": 184,
   "metadata": {},
   "outputs": [
    {
     "name": "stdout",
     "output_type": "stream",
     "text": [
      "(21, 1)\n"
     ]
    },
    {
     "data": {
      "text/html": [
       "<div>\n",
       "<style scoped>\n",
       "    .dataframe tbody tr th:only-of-type {\n",
       "        vertical-align: middle;\n",
       "    }\n",
       "\n",
       "    .dataframe tbody tr th {\n",
       "        vertical-align: top;\n",
       "    }\n",
       "\n",
       "    .dataframe thead th {\n",
       "        text-align: right;\n",
       "    }\n",
       "</style>\n",
       "<table border=\"1\" class=\"dataframe\">\n",
       "  <thead>\n",
       "    <tr style=\"text-align: right;\">\n",
       "      <th></th>\n",
       "      <th>0</th>\n",
       "    </tr>\n",
       "    <tr>\n",
       "      <th>ID_TestSet</th>\n",
       "      <th></th>\n",
       "    </tr>\n",
       "  </thead>\n",
       "  <tbody>\n",
       "    <tr>\n",
       "      <th>14</th>\n",
       "      <td>2</td>\n",
       "    </tr>\n",
       "    <tr>\n",
       "      <th>32</th>\n",
       "      <td>2</td>\n",
       "    </tr>\n",
       "    <tr>\n",
       "      <th>59</th>\n",
       "      <td>2</td>\n",
       "    </tr>\n",
       "    <tr>\n",
       "      <th>71</th>\n",
       "      <td>0</td>\n",
       "    </tr>\n",
       "    <tr>\n",
       "      <th>101</th>\n",
       "      <td>1</td>\n",
       "    </tr>\n",
       "    <tr>\n",
       "      <th>107</th>\n",
       "      <td>1</td>\n",
       "    </tr>\n",
       "    <tr>\n",
       "      <th>140</th>\n",
       "      <td>2</td>\n",
       "    </tr>\n",
       "    <tr>\n",
       "      <th>158</th>\n",
       "      <td>1</td>\n",
       "    </tr>\n",
       "    <tr>\n",
       "      <th>161</th>\n",
       "      <td>2</td>\n",
       "    </tr>\n",
       "    <tr>\n",
       "      <th>206</th>\n",
       "      <td>2</td>\n",
       "    </tr>\n",
       "  </tbody>\n",
       "</table>\n",
       "</div>"
      ],
      "text/plain": [
       "            0\n",
       "ID_TestSet   \n",
       "14          2\n",
       "32          2\n",
       "59          2\n",
       "71          0\n",
       "101         1\n",
       "107         1\n",
       "140         2\n",
       "158         1\n",
       "161         2\n",
       "206         2"
      ]
     },
     "execution_count": 184,
     "metadata": {},
     "output_type": "execute_result"
    }
   ],
   "source": [
    "# test labels\n",
    "group_test = test.groupby('ID_TestSet')\n",
    "test_goal_df = group_test.apply(lambda x: x['goal'].unique())\n",
    "test_goal_df = test_goal_df.apply(pd.Series)\n",
    "print(test_goal_df.shape)\n",
    "test_goal_df.head(10)"
   ]
  },
  {
   "cell_type": "code",
   "execution_count": 186,
   "metadata": {},
   "outputs": [
    {
     "name": "stdout",
     "output_type": "stream",
     "text": [
      "(184,)\n",
      "[1 1 1 1 1 1 1 1 1 1 1 1 1 0 1 1 1 1 0 1 1 0 1 1 1 1 1 0 0 1 1 1 1 0 0 1 0\n",
      " 1 1 1 1 1 1 1 1 1 1 1 1 1 1 1 1 1 1 1 1 1 1 1 1 1 1 1 1 1 1 1 1 1 1 1 1 0\n",
      " 0 1 1 0 1 1 0 1 1 1 1 1 1 1 1 0 0 1 1 1 1 0 1 1 0 1 1 1 0 1 0 1 0 0 1 0 0\n",
      " 0 1 0 1 1 1 1 1 1 1 1 1 1 1 1 1 1 0 0 1 1 1 0 0 1 0 0 1 1 0 1 0 0 0 1 0 1\n",
      " 0 0 1 0 1 1 0 0 0 1 1 0 1 0 0 0 0 1 0 1 0 0 0 1 0 1 1 0 1 1 1 0 0 0 1 1]\n",
      "\n",
      "\n",
      "(21,)\n",
      "[1 1 1 0 1 1 1 1 1 1 1 1 1 1 1 0 1 0 1 0 0]\n"
     ]
    }
   ],
   "source": [
    "y_train = train_goal_df[0]\n",
    "y_test = test_goal_df[0]\n",
    "\n",
    "# Convert 3-class classification train labels to binary labels\n",
    "y_train = np.asarray([1 if x == 2 else x for x in y_train]) \n",
    "y_test = np.asarray([1 if x == 2 else x for x in y_test])\n",
    "\n",
    "print(y_train.shape)\n",
    "print(y_train)\n",
    "print('\\n')\n",
    "print(y_test.shape)\n",
    "print(y_test)"
   ]
  },
  {
   "cell_type": "code",
   "execution_count": 187,
   "metadata": {},
   "outputs": [
    {
     "name": "stdout",
     "output_type": "stream",
     "text": [
      "(16376, 15)\n"
     ]
    },
    {
     "data": {
      "text/html": [
       "<div>\n",
       "<style scoped>\n",
       "    .dataframe tbody tr th:only-of-type {\n",
       "        vertical-align: middle;\n",
       "    }\n",
       "\n",
       "    .dataframe tbody tr th {\n",
       "        vertical-align: top;\n",
       "    }\n",
       "\n",
       "    .dataframe thead th {\n",
       "        text-align: right;\n",
       "    }\n",
       "</style>\n",
       "<table border=\"1\" class=\"dataframe\">\n",
       "  <thead>\n",
       "    <tr style=\"text-align: right;\">\n",
       "      <th></th>\n",
       "      <th>ID_TestSet</th>\n",
       "      <th>bx</th>\n",
       "      <th>by</th>\n",
       "      <th>bz</th>\n",
       "      <th>bl</th>\n",
       "      <th>bm</th>\n",
       "      <th>bn</th>\n",
       "      <th>bmag</th>\n",
       "      <th>vx</th>\n",
       "      <th>vy</th>\n",
       "      <th>vz</th>\n",
       "      <th>vmag</th>\n",
       "      <th>np</th>\n",
       "      <th>tpar</th>\n",
       "      <th>tper</th>\n",
       "    </tr>\n",
       "  </thead>\n",
       "  <tbody>\n",
       "    <tr>\n",
       "      <th>0</th>\n",
       "      <td>590</td>\n",
       "      <td>-17.48</td>\n",
       "      <td>-19.70</td>\n",
       "      <td>8.25</td>\n",
       "      <td>5.86</td>\n",
       "      <td>26.29</td>\n",
       "      <td>6.02</td>\n",
       "      <td>27.61</td>\n",
       "      <td>-196.55</td>\n",
       "      <td>-22.74</td>\n",
       "      <td>92.62</td>\n",
       "      <td>218.47</td>\n",
       "      <td>0.13</td>\n",
       "      <td>4086.34</td>\n",
       "      <td>3061.64</td>\n",
       "    </tr>\n",
       "    <tr>\n",
       "      <th>1</th>\n",
       "      <td>590</td>\n",
       "      <td>-19.00</td>\n",
       "      <td>-17.82</td>\n",
       "      <td>7.64</td>\n",
       "      <td>4.19</td>\n",
       "      <td>26.50</td>\n",
       "      <td>4.18</td>\n",
       "      <td>27.15</td>\n",
       "      <td>-66.90</td>\n",
       "      <td>-90.38</td>\n",
       "      <td>137.44</td>\n",
       "      <td>177.58</td>\n",
       "      <td>0.12</td>\n",
       "      <td>2661.12</td>\n",
       "      <td>3750.87</td>\n",
       "    </tr>\n",
       "    <tr>\n",
       "      <th>2</th>\n",
       "      <td>590</td>\n",
       "      <td>-19.51</td>\n",
       "      <td>-15.25</td>\n",
       "      <td>7.22</td>\n",
       "      <td>2.90</td>\n",
       "      <td>25.54</td>\n",
       "      <td>2.06</td>\n",
       "      <td>25.79</td>\n",
       "      <td>-49.73</td>\n",
       "      <td>-113.70</td>\n",
       "      <td>99.69</td>\n",
       "      <td>159.19</td>\n",
       "      <td>0.13</td>\n",
       "      <td>2372.01</td>\n",
       "      <td>3353.52</td>\n",
       "    </tr>\n",
       "    <tr>\n",
       "      <th>3</th>\n",
       "      <td>590</td>\n",
       "      <td>-18.98</td>\n",
       "      <td>-12.83</td>\n",
       "      <td>7.68</td>\n",
       "      <td>2.83</td>\n",
       "      <td>24.00</td>\n",
       "      <td>0.08</td>\n",
       "      <td>24.17</td>\n",
       "      <td>-18.37</td>\n",
       "      <td>-153.80</td>\n",
       "      <td>103.16</td>\n",
       "      <td>186.10</td>\n",
       "      <td>0.14</td>\n",
       "      <td>2291.09</td>\n",
       "      <td>3215.64</td>\n",
       "    </tr>\n",
       "    <tr>\n",
       "      <th>4</th>\n",
       "      <td>590</td>\n",
       "      <td>-17.49</td>\n",
       "      <td>-11.80</td>\n",
       "      <td>7.94</td>\n",
       "      <td>3.36</td>\n",
       "      <td>22.29</td>\n",
       "      <td>-0.32</td>\n",
       "      <td>22.54</td>\n",
       "      <td>-57.63</td>\n",
       "      <td>-183.42</td>\n",
       "      <td>95.02</td>\n",
       "      <td>214.47</td>\n",
       "      <td>0.13</td>\n",
       "      <td>2120.98</td>\n",
       "      <td>3299.84</td>\n",
       "    </tr>\n",
       "  </tbody>\n",
       "</table>\n",
       "</div>"
      ],
      "text/plain": [
       "   ID_TestSet     bx     by    bz    bl     bm    bn   bmag      vx      vy  \\\n",
       "0         590 -17.48 -19.70  8.25  5.86  26.29  6.02  27.61 -196.55  -22.74   \n",
       "1         590 -19.00 -17.82  7.64  4.19  26.50  4.18  27.15  -66.90  -90.38   \n",
       "2         590 -19.51 -15.25  7.22  2.90  25.54  2.06  25.79  -49.73 -113.70   \n",
       "3         590 -18.98 -12.83  7.68  2.83  24.00  0.08  24.17  -18.37 -153.80   \n",
       "4         590 -17.49 -11.80  7.94  3.36  22.29 -0.32  22.54  -57.63 -183.42   \n",
       "\n",
       "       vz    vmag    np     tpar     tper  \n",
       "0   92.62  218.47  0.13  4086.34  3061.64  \n",
       "1  137.44  177.58  0.12  2661.12  3750.87  \n",
       "2   99.69  159.19  0.13  2372.01  3353.52  \n",
       "3  103.16  186.10  0.14  2291.09  3215.64  \n",
       "4   95.02  214.47  0.13  2120.98  3299.84  "
      ]
     },
     "execution_count": 187,
     "metadata": {},
     "output_type": "execute_result"
    }
   ],
   "source": [
    "# Drop the label column now that labels have been extracted\n",
    "train = train.drop(['goal'],axis=1)\n",
    "print(train.shape)\n",
    "train.head()"
   ]
  },
  {
   "cell_type": "code",
   "execution_count": 188,
   "metadata": {},
   "outputs": [
    {
     "name": "stdout",
     "output_type": "stream",
     "text": [
      "(1869, 15)\n"
     ]
    },
    {
     "data": {
      "text/html": [
       "<div>\n",
       "<style scoped>\n",
       "    .dataframe tbody tr th:only-of-type {\n",
       "        vertical-align: middle;\n",
       "    }\n",
       "\n",
       "    .dataframe tbody tr th {\n",
       "        vertical-align: top;\n",
       "    }\n",
       "\n",
       "    .dataframe thead th {\n",
       "        text-align: right;\n",
       "    }\n",
       "</style>\n",
       "<table border=\"1\" class=\"dataframe\">\n",
       "  <thead>\n",
       "    <tr style=\"text-align: right;\">\n",
       "      <th></th>\n",
       "      <th>ID_TestSet</th>\n",
       "      <th>bx</th>\n",
       "      <th>by</th>\n",
       "      <th>bz</th>\n",
       "      <th>bl</th>\n",
       "      <th>bm</th>\n",
       "      <th>bn</th>\n",
       "      <th>bmag</th>\n",
       "      <th>vx</th>\n",
       "      <th>vy</th>\n",
       "      <th>vz</th>\n",
       "      <th>vmag</th>\n",
       "      <th>np</th>\n",
       "      <th>tpar</th>\n",
       "      <th>tper</th>\n",
       "    </tr>\n",
       "  </thead>\n",
       "  <tbody>\n",
       "    <tr>\n",
       "      <th>0</th>\n",
       "      <td>14</td>\n",
       "      <td>9.71</td>\n",
       "      <td>5.56</td>\n",
       "      <td>15.22</td>\n",
       "      <td>17.87</td>\n",
       "      <td>-5.99</td>\n",
       "      <td>-1.31</td>\n",
       "      <td>18.88</td>\n",
       "      <td>-174.41</td>\n",
       "      <td>-141.25</td>\n",
       "      <td>129.96</td>\n",
       "      <td>259.35</td>\n",
       "      <td>2.27</td>\n",
       "      <td>307.47</td>\n",
       "      <td>180.55</td>\n",
       "    </tr>\n",
       "    <tr>\n",
       "      <th>1</th>\n",
       "      <td>14</td>\n",
       "      <td>8.57</td>\n",
       "      <td>4.49</td>\n",
       "      <td>16.60</td>\n",
       "      <td>18.74</td>\n",
       "      <td>-4.10</td>\n",
       "      <td>-1.16</td>\n",
       "      <td>19.21</td>\n",
       "      <td>-140.61</td>\n",
       "      <td>-99.62</td>\n",
       "      <td>129.97</td>\n",
       "      <td>215.85</td>\n",
       "      <td>2.27</td>\n",
       "      <td>244.42</td>\n",
       "      <td>155.83</td>\n",
       "    </tr>\n",
       "    <tr>\n",
       "      <th>2</th>\n",
       "      <td>14</td>\n",
       "      <td>8.58</td>\n",
       "      <td>3.54</td>\n",
       "      <td>17.03</td>\n",
       "      <td>19.08</td>\n",
       "      <td>-3.47</td>\n",
       "      <td>-0.40</td>\n",
       "      <td>19.40</td>\n",
       "      <td>-135.13</td>\n",
       "      <td>-104.07</td>\n",
       "      <td>122.05</td>\n",
       "      <td>209.74</td>\n",
       "      <td>2.65</td>\n",
       "      <td>195.67</td>\n",
       "      <td>133.88</td>\n",
       "    </tr>\n",
       "    <tr>\n",
       "      <th>3</th>\n",
       "      <td>14</td>\n",
       "      <td>9.32</td>\n",
       "      <td>4.04</td>\n",
       "      <td>16.48</td>\n",
       "      <td>18.83</td>\n",
       "      <td>-4.49</td>\n",
       "      <td>-0.37</td>\n",
       "      <td>19.36</td>\n",
       "      <td>-171.30</td>\n",
       "      <td>-123.13</td>\n",
       "      <td>141.35</td>\n",
       "      <td>253.94</td>\n",
       "      <td>1.86</td>\n",
       "      <td>219.00</td>\n",
       "      <td>184.30</td>\n",
       "    </tr>\n",
       "    <tr>\n",
       "      <th>4</th>\n",
       "      <td>14</td>\n",
       "      <td>10.29</td>\n",
       "      <td>5.31</td>\n",
       "      <td>15.23</td>\n",
       "      <td>18.04</td>\n",
       "      <td>-6.31</td>\n",
       "      <td>-0.80</td>\n",
       "      <td>19.12</td>\n",
       "      <td>-168.38</td>\n",
       "      <td>-127.08</td>\n",
       "      <td>155.89</td>\n",
       "      <td>262.30</td>\n",
       "      <td>2.41</td>\n",
       "      <td>174.69</td>\n",
       "      <td>145.10</td>\n",
       "    </tr>\n",
       "  </tbody>\n",
       "</table>\n",
       "</div>"
      ],
      "text/plain": [
       "   ID_TestSet     bx    by     bz     bl    bm    bn   bmag      vx      vy  \\\n",
       "0          14   9.71  5.56  15.22  17.87 -5.99 -1.31  18.88 -174.41 -141.25   \n",
       "1          14   8.57  4.49  16.60  18.74 -4.10 -1.16  19.21 -140.61  -99.62   \n",
       "2          14   8.58  3.54  17.03  19.08 -3.47 -0.40  19.40 -135.13 -104.07   \n",
       "3          14   9.32  4.04  16.48  18.83 -4.49 -0.37  19.36 -171.30 -123.13   \n",
       "4          14  10.29  5.31  15.23  18.04 -6.31 -0.80  19.12 -168.38 -127.08   \n",
       "\n",
       "       vz    vmag    np    tpar    tper  \n",
       "0  129.96  259.35  2.27  307.47  180.55  \n",
       "1  129.97  215.85  2.27  244.42  155.83  \n",
       "2  122.05  209.74  2.65  195.67  133.88  \n",
       "3  141.35  253.94  1.86  219.00  184.30  \n",
       "4  155.89  262.30  2.41  174.69  145.10  "
      ]
     },
     "execution_count": 188,
     "metadata": {},
     "output_type": "execute_result"
    }
   ],
   "source": [
    "# Drop the label column now that labels have been extracted\n",
    "test = test.drop(['goal'],axis=1)\n",
    "print(test.shape)\n",
    "test.head()"
   ]
  },
  {
   "cell_type": "markdown",
   "metadata": {},
   "source": [
    "Done with data split! Next, we move onto data preprocessing."
   ]
  },
  {
   "cell_type": "markdown",
   "metadata": {},
   "source": [
    "## Data Pre-processing"
   ]
  },
  {
   "cell_type": "markdown",
   "metadata": {},
   "source": [
    "### Handling Missing Values"
   ]
  },
  {
   "cell_type": "markdown",
   "metadata": {},
   "source": [
    "Let's study the training and test set for potential presence of NaN's:"
   ]
  },
  {
   "cell_type": "code",
   "execution_count": 153,
   "metadata": {},
   "outputs": [
    {
     "data": {
      "text/plain": [
       "False"
      ]
     },
     "execution_count": 153,
     "metadata": {},
     "output_type": "execute_result"
    }
   ],
   "source": [
    "train.isnull().values.any()"
   ]
  },
  {
   "cell_type": "code",
   "execution_count": 154,
   "metadata": {},
   "outputs": [
    {
     "data": {
      "text/plain": [
       "False"
      ]
     },
     "execution_count": 154,
     "metadata": {},
     "output_type": "execute_result"
    }
   ],
   "source": [
    "test.isnull().values.any()"
   ]
  },
  {
   "cell_type": "markdown",
   "metadata": {},
   "source": [
    "Great! There aren't any missing values in the train or test set. Let's proceed to the next preprocessing step."
   ]
  },
  {
   "cell_type": "markdown",
   "metadata": {},
   "source": [
    "### Feature Standardization"
   ]
  },
  {
   "cell_type": "markdown",
   "metadata": {},
   "source": [
    "Next, I standardize the features so that each feature will have a mean value 0 and standard deviation of 1:"
   ]
  },
  {
   "cell_type": "code",
   "execution_count": 189,
   "metadata": {},
   "outputs": [
    {
     "name": "stdout",
     "output_type": "stream",
     "text": [
      "['ID_TestSet', 'bx', 'by', 'bz', 'bl', 'bm', 'bn', 'bmag', 'vx', 'vy', 'vz', 'vmag', 'np', 'tpar', 'tper']\n"
     ]
    }
   ],
   "source": [
    "# Create the Scaler object\n",
    "scaler = preprocessing.StandardScaler()\n",
    "# Get column names\n",
    "col_names = list(train.columns.values)\n",
    "print(col_names)"
   ]
  },
  {
   "cell_type": "code",
   "execution_count": 190,
   "metadata": {},
   "outputs": [
    {
     "name": "stdout",
     "output_type": "stream",
     "text": [
      "StandardScaler(copy=True, with_mean=True, with_std=True)\n",
      "   ID_TestSet        bx        by        bz        bl        bm        bn  \\\n",
      "0         590 -0.712944 -1.074157  0.183990  0.102581  1.242574  0.801284   \n",
      "1         590 -0.792184 -0.941810  0.148164  0.030723  1.254743  0.530755   \n",
      "2         590 -0.818771 -0.760889  0.123497 -0.024784  1.199112  0.219059   \n",
      "3         590 -0.791141 -0.590528  0.150513 -0.027796  1.109869 -0.072053   \n",
      "4         590 -0.713466 -0.518019  0.165783 -0.004990  1.010776 -0.130864   \n",
      "\n",
      "       bmag        vx        vy        vz      vmag        np      tpar  \\\n",
      "0  0.146028 -0.049422 -0.467195  0.676036 -0.250899 -0.892569  3.930872   \n",
      "1  0.118954  0.958020 -1.051626  1.128048 -0.581160 -0.893951  2.334710   \n",
      "2  0.038909  1.091439 -1.253118  0.747337 -0.729692 -0.892569  2.010924   \n",
      "3 -0.056438  1.335121 -1.599594  0.782332 -0.512345 -0.891187  1.920298   \n",
      "4 -0.152373  1.030052 -1.855520  0.700240 -0.283206 -0.892569  1.729785   \n",
      "\n",
      "       tper  \n",
      "0  2.029574  \n",
      "1  2.626612  \n",
      "2  2.282412  \n",
      "3  2.162975  \n",
      "4  2.235912  \n",
      "   ID_TestSet        bx        by        bz        bl        bm        bn  \\\n",
      "0          14  0.704503  0.704078  0.593349  0.619355 -0.628037 -0.276420   \n",
      "1          14  0.645073  0.628753  0.674398  0.656790 -0.518512 -0.254366   \n",
      "2          14  0.645595  0.561875  0.699653  0.671420 -0.482004 -0.142626   \n",
      "3          14  0.684172  0.597074  0.667350  0.660663 -0.541113 -0.138215   \n",
      "4          14  0.734739  0.686479  0.593936  0.626670 -0.646581 -0.201436   \n",
      "\n",
      "       bmag        vx        vy        vz      vmag        np      tpar  \\\n",
      "0 -0.367787  0.122616 -1.491158  1.052612  0.079280 -0.596775 -0.301239   \n",
      "1 -0.348365  0.385258 -1.131462  1.052713 -0.272060 -0.596775 -0.371851   \n",
      "2 -0.337182  0.427840 -1.169911  0.972839 -0.321410 -0.544251 -0.426448   \n",
      "3 -0.339536  0.146782 -1.334596  1.167481  0.035585 -0.653446 -0.400320   \n",
      "4 -0.353662  0.169472 -1.368725  1.314117  0.103107 -0.577424 -0.449944   \n",
      "\n",
      "       tper  \n",
      "0 -0.466142  \n",
      "1 -0.487556  \n",
      "2 -0.506570  \n",
      "3 -0.462894  \n",
      "4 -0.496850  \n"
     ]
    }
   ],
   "source": [
    "cols_to_norm = col_names[1:] # Columns to standardize\n",
    "\n",
    "# Fit training data on the scaler object\n",
    "fitted_scaler = scaler.fit(train[cols_to_norm])\n",
    "print(scaler)\n",
    "train[cols_to_norm] = fitted_scaler.transform(train[cols_to_norm])\n",
    "print(train.head())\n",
    "\n",
    "# Use the scalar object fitted on training data to standardize the test set\n",
    "test[cols_to_norm] = fitted_scaler.transform(test[cols_to_norm])\n",
    "print(test.head())"
   ]
  },
  {
   "cell_type": "markdown",
   "metadata": {},
   "source": [
    "We are now done with the basic preprocessing steps. In the next section, I will discuss the two approaches I have taken to perform classification on the preprocessed data."
   ]
  },
  {
   "cell_type": "markdown",
   "metadata": {},
   "source": [
    "## Classification\n",
    "Considering that each data point in the dataset is a time series sequence,I decided to use LSTM sequence classification method to classify the timeseries data. LSTM deep networks are a popular choice when it comes to timeseries data or any type of data with inherent sequential information. However, deep learning techniques tend to require a large amount of data to reveil their fullest potential. Although the LSTM model performed well, I decided to try out a non-deep learning approach on the dataset as well trying to push the performance even further. Thus, as my second classification approach, I used ensemble tree boosting (XGBoost) with manual feature extraction and successfully improved the performance. \n",
    "\n",
    "Below are the details for the two classification methods I tried on the dataset."
   ]
  },
  {
   "cell_type": "markdown",
   "metadata": {},
   "source": [
    "## Approach 1: LSTM\n",
    "As the first approach, I trained a bidirectional LSTM network using Keras package in Python. Using LSTMs required performing a couple of further preprocessing steps, which I talk about next:"
   ]
  },
  {
   "cell_type": "markdown",
   "metadata": {},
   "source": [
    "### Input Adjustments for LSTM\n",
    "As the first step in building out LSTM network, we need to reshape the train and test data to 3-D tensors of the desired shape $(nb\\_samples,nb\\_timesteps,nb\\_features)$. The number of timesteps and features for this particular dataset are 89 and 14, respectively."
   ]
  },
  {
   "cell_type": "code",
   "execution_count": 191,
   "metadata": {},
   "outputs": [
    {
     "name": "stderr",
     "output_type": "stream",
     "text": [
      "/Library/Frameworks/Python.framework/Versions/3.5/lib/python3.5/site-packages/ipykernel_launcher.py:20: FutureWarning: Method .as_matrix will be removed in a future version. Use .values instead.\n"
     ]
    },
    {
     "name": "stdout",
     "output_type": "stream",
     "text": [
      "(184, 89, 14)\n",
      "[[[-7.12944260e-01 -1.07415714e+00  1.83990034e-01 ... -8.92569022e-01\n",
      "    3.93087167e+00  2.02957375e+00]\n",
      "  [-7.92183678e-01 -9.41810271e-01  1.48163803e-01 ... -8.93951238e-01\n",
      "    2.33470979e+00  2.62661245e+00]\n",
      "  [-8.18770588e-01 -7.60889280e-01  1.23496562e-01 ... -8.92569022e-01\n",
      "    2.01092373e+00  2.28241192e+00]\n",
      "  ...\n",
      "  [-8.52846598e-02 -7.24282698e-01 -2.27449384e-02 ... -8.93951238e-01\n",
      "    3.09675104e+00  3.06769328e+00]\n",
      "  [-8.37207239e-02 -7.28506534e-01 -4.27136573e-02 ... -8.96715669e-01\n",
      "    3.40884491e+00  3.49101618e+00]\n",
      "  [-8.21567880e-02 -7.29210507e-01 -4.33009725e-02 ... -8.95333453e-01\n",
      "    2.83462892e+00  2.85570699e+00]]\n",
      "\n",
      " [[ 9.15634304e-01 -1.30294828e+00  6.00396555e-01 ...  6.16810196e-01\n",
      "   -3.38913443e-01 -3.45197668e-01]\n",
      "  [ 3.82332168e-01 -4.70148543e-01  6.29175003e-01 ...  1.10749666e+00\n",
      "   -3.93331361e-01 -3.73350473e-01]\n",
      "  [ 2.43663187e-01 -2.89227552e-01  6.06857023e-01 ...  1.22636719e+00\n",
      "   -4.08159376e-01 -3.85919618e-01]\n",
      "  ...\n",
      "  [-4.56649508e-02  1.59203076e-01  9.33991624e-01 ...  1.13099433e+00\n",
      "   -3.78010572e-01 -3.83320897e-01]\n",
      "  [ 1.85276247e-01  1.24004439e-01  4.05407888e-01 ...  1.22636719e+00\n",
      "   -3.56765297e-01 -3.51235362e-01]\n",
      "  [ 4.34793944e-02  1.15556766e-01  5.85713673e-01 ...  1.22636719e+00\n",
      "   -3.63798525e-01 -3.70188697e-01]]\n",
      "\n",
      " [[ 3.54702635e-01 -2.03099700e-02  4.34773651e-01 ...  2.54669761e-01\n",
      "   -5.00834469e-01 -4.53512338e-01]\n",
      "  [ 4.13610886e-01 -5.97324428e-02  4.83520818e-01 ...  2.93371792e-01\n",
      "   -5.12929828e-01 -4.70499307e-01]\n",
      "  [ 5.13702782e-01  8.66938846e-02  4.49456533e-01 ...  1.39945883e-01\n",
      "   -4.91942140e-01 -4.31371239e-01]\n",
      "  ...\n",
      "  [ 2.96315695e-01 -1.81519725e-01  5.44014290e-01 ... -1.34800270e-02\n",
      "   -5.32215207e-01 -4.46547767e-01]\n",
      "  [ 3.35414092e-01 -1.49136979e-01  4.88219340e-01 ... -1.57230429e-01\n",
      "   -4.92222125e-01 -4.09065555e-01]\n",
      "  [ 3.19253421e-01 -7.38118973e-02  2.83246313e-01 ... -1.76581444e-01\n",
      "   -4.70730463e-01 -3.67529339e-01]]\n",
      "\n",
      " ...\n",
      "\n",
      " [[ 5.46024124e-01  1.50379099e+00 -1.35242669e+00 ... -2.05607968e-01\n",
      "   -3.39103832e-01 -3.37462143e-01]\n",
      "  [ 4.14653510e-01  1.43409769e+00 -1.26374209e+00 ... -1.97314675e-01\n",
      "   -2.67730012e-01 -3.70032773e-01]\n",
      "  [ 3.17689485e-01  1.62909813e+00 -1.15273950e+00 ... -4.06029201e-01\n",
      "   -3.32843364e-01 -2.86457923e-01]\n",
      "  ...\n",
      "  [ 7.52463660e-01  1.26936807e+00 -1.51100181e+00 ...  3.00282869e-01\n",
      "   -3.84618222e-01 -3.52534722e-01]\n",
      "  [ 6.52893076e-01  1.17855559e+00 -1.26021820e+00 ...  3.30691608e-01\n",
      "   -3.48578531e-01 -3.13146782e-01]\n",
      "  [ 6.23178294e-01  1.48126386e+00 -1.42290452e+00 ...  1.92470068e-01\n",
      "   -4.00879761e-01 -3.20007404e-01]]\n",
      "\n",
      " [[ 1.33666363e-01 -2.48210260e+00  4.43583380e-01 ...  3.44205848e+00\n",
      "   -5.47692788e-01 -5.60726882e-01]\n",
      "  [ 4.19866630e-01 -2.13152418e+00  3.30231534e-01 ...  3.44205848e+00\n",
      "   -5.46572847e-01 -5.62883820e-01]\n",
      "  [ 7.52463660e-01 -2.16742679e+00 -1.60158892e-03 ...  3.75029251e+00\n",
      "   -5.63853532e-01 -5.61679747e-01]\n",
      "  ...\n",
      "  [ 1.09705087e+00 -1.56060230e+00 -2.46512053e-01 ...  5.16982773e+00\n",
      "   -5.91404073e-01 -5.50860407e-01]\n",
      "  [ 1.21226081e+00 -1.90202907e+00 -2.79989023e-01 ...  4.55197744e+00\n",
      "   -5.91168886e-01 -5.58119500e-01]\n",
      "  [ 1.14031976e+00 -1.94778730e+00 -2.26543334e-01 ...  5.04542834e+00\n",
      "   -5.91930445e-01 -5.59938604e-01]]\n",
      "\n",
      " [[ 1.69760224e+00  1.05043255e+00  1.61084739e-01 ... -8.73218007e-01\n",
      "   -3.11687684e-01 -2.84482895e-01]\n",
      "  [ 1.67935632e+00  1.12364571e+00  1.40528705e-01 ... -8.74600222e-01\n",
      "   -3.12209348e-02 -3.00698911e-01]\n",
      "  [ 1.68665469e+00  1.04691269e+00  1.64021315e-01 ... -8.75982438e-01\n",
      "   -7.57609764e-02 -3.08789594e-01]\n",
      "  ...\n",
      "  [ 9.92788474e-01  6.85774676e-01 -5.81281753e-01 ... -4.80354120e-02\n",
      "   -4.93834839e-01 -4.63560724e-01]\n",
      "  [ 9.74542555e-01  5.93554249e-01 -5.71884709e-01 ... -7.29152893e-02\n",
      "   -5.07296527e-01 -4.59905190e-01]\n",
      "  [ 1.00321471e+00  5.47796021e-01 -5.31359956e-01 ... -7.29152893e-02\n",
      "   -5.12896230e-01 -4.57895513e-01]]]\n",
      "\n",
      "\n",
      "(21, 89, 14)\n",
      "[[[ 0.70450296  0.70407797  0.59334877 ... -0.59677493 -0.30123864\n",
      "   -0.46614212]\n",
      "  [ 0.6450734   0.62875288  0.67439828 ... -0.59677493 -0.3718509\n",
      "   -0.48755558]\n",
      "  [ 0.64559471  0.56187548  0.69965283 ... -0.54425074 -0.42644801\n",
      "   -0.50656955]\n",
      "  ...\n",
      "  [ 0.96932944  1.23346546 -0.34106981 ... -0.57327726 -0.5361798\n",
      "   -0.49004169]\n",
      "  [ 1.08870987  1.0799994  -0.14901772 ... -0.57327726 -0.43060299\n",
      "   -0.51692112]\n",
      "  [ 1.06108034  0.92442143  0.14229065 ... -0.5677484  -0.44054806\n",
      "   -0.51787398]]\n",
      "\n",
      " [[ 0.73421774  0.87443937  0.9985963  ... -0.04250655 -0.48451693\n",
      "   -0.44207797]\n",
      "  [ 0.6539357   0.43304847  1.15364753 ...  0.10124385 -0.39501127\n",
      "   -0.48938334]\n",
      "  [ 0.63725372  0.93498102  0.89875271 ... -0.08120858 -0.48548008\n",
      "   -0.44012893]\n",
      "  ...\n",
      "  [ 1.51097256  0.70126208  0.41245567 ... -0.56360176 -0.47255597\n",
      "   -0.4160128 ]\n",
      "  [ 1.4124446   0.78996264  0.44534533 ... -0.53872188 -0.45948626\n",
      "   -0.40319245]\n",
      "  [ 1.30974615  0.84416854  0.58453904 ... -0.52489973 -0.46534355\n",
      "   -0.39945029]]\n",
      "\n",
      " [[ 1.29827728 -0.19982302  1.52013226 ... -0.54701517 -0.46522035\n",
      "   -0.43667263]\n",
      "  [ 1.71219898  0.47035902  0.92870579 ... -0.39773591 -0.38160558\n",
      "   -0.47622515]\n",
      "  [ 1.85973026  0.77165935  0.67087439 ... -0.48066883 -0.38110161\n",
      "   -0.46193219]\n",
      "  ...\n",
      "  [ 1.84044172  0.54286821  0.66617586 ... -0.15861264 -0.53509345\n",
      "   -0.47599993]\n",
      "  [ 1.84669746  0.64494426  0.60450776 ... -0.10470624 -0.52946015\n",
      "   -0.45947207]\n",
      "  [ 1.83783516  0.57877082  0.59511072 ... -0.13511498 -0.53641498\n",
      "   -0.45052381]]\n",
      "\n",
      " ...\n",
      "\n",
      " [[ 0.00803018  1.1806675  -1.13512005 ...  0.13027037 -0.38066483\n",
      "   -0.26758255]\n",
      "  [ 0.22593858  1.16447613 -1.12513569 ...  0.1772657  -0.35600374\n",
      "   -0.27462508]\n",
      "  [ 0.24626975  1.68048814 -1.51217644 ...  0.00310656 -0.3926706\n",
      "   -0.32262345]\n",
      "  ...\n",
      "  [ 0.28588946  1.65725704 -1.69776807 ...  0.00310656 -0.39877427\n",
      "   -0.30246604]\n",
      "  [ 0.26660091  1.6994954  -1.83226326 ... -0.01209781 -0.4001966\n",
      "   -0.32751771]\n",
      "  [ 0.14565654  1.29541506 -1.35242669 ...  0.08465727 -0.36498566\n",
      "   -0.27080496]]\n",
      "\n",
      " [[-0.10822239 -1.38038528 -0.20128878 ... -0.67279677  0.48278705\n",
      "   -0.12861164]\n",
      "  [ 0.15660409 -1.43740707 -0.21127314 ... -0.68109007  0.43162816\n",
      "   -0.13600933]\n",
      "  [ 0.09196141 -1.4599342  -0.11084223 ... -0.70735216  0.49216095\n",
      "   -0.1301882 ]\n",
      "  ...\n",
      "  [-0.57114741 -1.22551128  0.86645037 ... -0.72532096  0.20293627\n",
      "   -0.14753033]\n",
      "  [-0.74109511 -1.03755056  0.65854077 ... -0.77646293  0.49273212\n",
      "   -0.01880704]\n",
      "  [-0.6582065  -1.13117893  0.66089003 ... -0.83036933  1.30224766\n",
      "    0.29530897]]\n",
      "\n",
      " [[ 0.92293267 -0.94392219 -0.31052942 ... -0.67694342 -0.10411787\n",
      "   -0.33951513]\n",
      "  [ 0.99904422 -0.5848961  -0.39745208 ... -0.5857172  -0.18143858\n",
      "   -0.34536225]\n",
      "  [ 0.59398482 -0.42087045 -0.20892388 ... -0.56913062  0.09546676\n",
      "   -0.28618939]\n",
      "  ...\n",
      "  [ 0.65654226 -1.43177529 -0.33402203 ... -0.53457523 -0.41083603\n",
      "   -0.29122224]\n",
      "  [ 0.52829952 -1.37827336 -0.30348163 ... -0.58848163 -0.31397236\n",
      "   -0.33269782]\n",
      "  [ 0.47929619 -1.3592661  -0.42857978 ... -0.51245979 -0.25572425\n",
      "   -0.42246629]]]\n"
     ]
    },
    {
     "name": "stderr",
     "output_type": "stream",
     "text": [
      "/Library/Frameworks/Python.framework/Versions/3.5/lib/python3.5/site-packages/ipykernel_launcher.py:25: FutureWarning: Method .as_matrix will be removed in a future version. Use .values instead.\n"
     ]
    }
   ],
   "source": [
    "nb_samples_train = train_sz\n",
    "nb_samples_test = test_sz\n",
    "nb_timestps = 89\n",
    "nb_feat = 14\n",
    "\n",
    "X_train = np.zeros((nb_samples_train, nb_timestps, nb_feat))\n",
    "X_test = np.zeros((nb_samples_test, nb_timestps, nb_feat))\n",
    "\n",
    "# Create a mapper to map the time series IDs to indices in the 3-D array for the train and test set\n",
    "TrainId_mapper = dict(zip(train_ids,range(train_sz)))\n",
    "TestId_mapper = dict(zip(test_ids,range(test_sz)))\n",
    "\n",
    "grouped_train = train.groupby('ID_TestSet')\n",
    "grouped_test = test.groupby('ID_TestSet')\n",
    "\n",
    "# Fill up the entries in the train and test data 3d array\n",
    "# train data\n",
    "for ID in train_ids:\n",
    "    grp_train = grouped_train.get_group(ID).reset_index(drop=True).drop(['ID_TestSet'],axis=1)\n",
    "    X_train[TrainId_mapper[ID],:,:] = grp_train.as_matrix()\n",
    "        \n",
    "# Test data\n",
    "for ID in test_ids:\n",
    "    grp_test = grouped_test.get_group(ID).reset_index(drop=True).drop(['ID_TestSet'],axis=1)\n",
    "    X_test[TestId_mapper[ID],:,:] = grp_test.as_matrix()\n",
    "    \n",
    "print(X_train.shape) \n",
    "print(X_train) \n",
    "print('\\n')\n",
    "print(X_test.shape) \n",
    "print(X_test)    "
   ]
  },
  {
   "cell_type": "markdown",
   "metadata": {},
   "source": [
    "### One-hot Label Encoding \n",
    "Another requirement of the LSTM model in Keras is that labels are encoded via one-hot encoding:"
   ]
  },
  {
   "cell_type": "code",
   "execution_count": 192,
   "metadata": {},
   "outputs": [
    {
     "name": "stdout",
     "output_type": "stream",
     "text": [
      "(184,)\n",
      "(21,)\n"
     ]
    }
   ],
   "source": [
    "num_classes = 2\n",
    "Y_train = to_categorical(y_train, num_classes)\n",
    "Y_test = to_categorical(y_test, num_classes)\n",
    "\n",
    "print(y_train.shape)\n",
    "print(y_test.shape)"
   ]
  },
  {
   "cell_type": "markdown",
   "metadata": {},
   "source": [
    "### Building LSTM Model\n",
    "Now that features and label data are in the required format, let us define the LSTM network and fit the model using training data. I used ADAM optimizer due to its superior performance over stochastic gradient descent (SGD). In building the model, I tuned the following hyperparameters:\n",
    "\n",
    "* Batch size: 8 (best param value)\n",
    "* Number of epochs: 30 (best param value)\n",
    "\n",
    "Further extensions of the work could include a more intensive hyperparameter tuning where we can tune ADAM optimizer parameters such as the learning rate, beta parameters, decay, etc. We can also experiment with variations of network architectures, such as adding dropouts, adding extra layers, etc.  "
   ]
  },
  {
   "cell_type": "code",
   "execution_count": 197,
   "metadata": {},
   "outputs": [
    {
     "name": "stdout",
     "output_type": "stream",
     "text": [
      "_________________________________________________________________\n",
      "Layer (type)                 Output Shape              Param #   \n",
      "=================================================================\n",
      "input_36 (InputLayer)        (None, 89, 14)            0         \n",
      "_________________________________________________________________\n",
      "bidirectional_36 (Bidirectio (None, 178)               74048     \n",
      "_________________________________________________________________\n",
      "dense_36 (Dense)             (None, 2)                 358       \n",
      "=================================================================\n",
      "Total params: 74,406\n",
      "Trainable params: 74,406\n",
      "Non-trainable params: 0\n",
      "_________________________________________________________________\n",
      "Epoch 1/30\n",
      "184/184 [==============================] - 8s 41ms/step - loss: 0.6662\n",
      "Epoch 2/30\n",
      "184/184 [==============================] - 2s 12ms/step - loss: 0.5857\n",
      "Epoch 3/30\n",
      "184/184 [==============================] - 2s 13ms/step - loss: 0.5537\n",
      "Epoch 4/30\n",
      "184/184 [==============================] - 2s 11ms/step - loss: 0.5275\n",
      "Epoch 5/30\n",
      "184/184 [==============================] - 2s 12ms/step - loss: 0.4917\n",
      "Epoch 6/30\n",
      "184/184 [==============================] - 2s 12ms/step - loss: 0.4987\n",
      "Epoch 7/30\n",
      "184/184 [==============================] - 2s 10ms/step - loss: 0.4802\n",
      "Epoch 8/30\n",
      "184/184 [==============================] - 2s 11ms/step - loss: 0.4546\n",
      "Epoch 9/30\n",
      "184/184 [==============================] - 2s 14ms/step - loss: 0.4070\n",
      "Epoch 10/30\n",
      "184/184 [==============================] - 2s 12ms/step - loss: 0.3816\n",
      "Epoch 11/30\n",
      "184/184 [==============================] - 2s 11ms/step - loss: 0.3623\n",
      "Epoch 12/30\n",
      "184/184 [==============================] - 2s 11ms/step - loss: 0.3680\n",
      "Epoch 13/30\n",
      "184/184 [==============================] - 2s 12ms/step - loss: 0.3894\n",
      "Epoch 14/30\n",
      "184/184 [==============================] - 2s 13ms/step - loss: 0.3266\n",
      "Epoch 15/30\n",
      "184/184 [==============================] - 2s 12ms/step - loss: 0.2949\n",
      "Epoch 16/30\n",
      "184/184 [==============================] - 2s 12ms/step - loss: 0.2768\n",
      "Epoch 17/30\n",
      "184/184 [==============================] - 2s 12ms/step - loss: 0.2442\n",
      "Epoch 18/30\n",
      "184/184 [==============================] - 2s 12ms/step - loss: 0.2405\n",
      "Epoch 19/30\n",
      "184/184 [==============================] - 2s 13ms/step - loss: 0.1911\n",
      "Epoch 20/30\n",
      "184/184 [==============================] - 2s 11ms/step - loss: 0.1652\n",
      "Epoch 21/30\n",
      "184/184 [==============================] - 2s 11ms/step - loss: 0.1543\n",
      "Epoch 22/30\n",
      "184/184 [==============================] - 2s 12ms/step - loss: 0.2053\n",
      "Epoch 23/30\n",
      "184/184 [==============================] - 2s 13ms/step - loss: 0.2256\n",
      "Epoch 24/30\n",
      "184/184 [==============================] - 2s 11ms/step - loss: 0.3246\n",
      "Epoch 25/30\n",
      "184/184 [==============================] - 2s 11ms/step - loss: 0.3149\n",
      "Epoch 26/30\n",
      "184/184 [==============================] - 2s 11ms/step - loss: 0.2693\n",
      "Epoch 27/30\n",
      "184/184 [==============================] - 2s 12ms/step - loss: 0.2294\n",
      "Epoch 28/30\n",
      "184/184 [==============================] - 2s 12ms/step - loss: 0.1639\n",
      "Epoch 29/30\n",
      "184/184 [==============================] - 2s 13ms/step - loss: 0.1341\n",
      "Epoch 30/30\n",
      "184/184 [==============================] - 2s 11ms/step - loss: 0.1146\n"
     ]
    },
    {
     "data": {
      "text/plain": [
       "<keras.callbacks.History at 0x194b91fd0>"
      ]
     },
     "execution_count": 197,
     "metadata": {},
     "output_type": "execute_result"
    }
   ],
   "source": [
    "# Define LSTM\n",
    "BATCH_SIZE = 8\n",
    "nb_classes = 2\n",
    "input_layer = Input(batch_shape = (None, nb_timestps, nb_feat))\n",
    "lstm_layer = Bidirectional(LSTM(units=89))(input_layer)\n",
    "output_layer = Dense(nb_classes, activation=\"sigmoid\")(lstm_layer)\n",
    "\n",
    "#opt = optimizers.Adam(lr=0.001)\n",
    "model = Model(inputs=input_layer, outputs=output_layer)\n",
    "model.compile(loss='categorical_crossentropy',\n",
    "              optimizer='adam')\n",
    "model.summary()\n",
    "\n",
    "# Fit LSTM\n",
    "EPOCH_SIZE = 30\n",
    "model.fit(X_train, Y_train, epochs=EPOCH_SIZE, batch_size=BATCH_SIZE)"
   ]
  },
  {
   "cell_type": "markdown",
   "metadata": {},
   "source": [
    "### LSTM Model Evaluation\n",
    "Let's now evaluate the fitted model on the test data. I am going to look at prediction accuracy, as well as sensitivity analysis (confusion matrix, class-specific as well as the overall precision, recall, F-1 score) and ROC curve and AUC score:"
   ]
  },
  {
   "cell_type": "code",
   "execution_count": 198,
   "metadata": {},
   "outputs": [
    {
     "data": {
      "text/plain": [
       "0.8571428571428571"
      ]
     },
     "execution_count": 198,
     "metadata": {},
     "output_type": "execute_result"
    }
   ],
   "source": [
    "y_pred = np.argmax(model.predict(X_test),axis=1)\n",
    "accuracy_score(y_test, y_pred)"
   ]
  },
  {
   "cell_type": "code",
   "execution_count": 199,
   "metadata": {},
   "outputs": [
    {
     "name": "stdout",
     "output_type": "stream",
     "text": [
      "confusion matrix:\n",
      "[[ 3  2]\n",
      " [ 1 15]]\n",
      "classification report:\n",
      "             precision    recall  f1-score   support\n",
      "\n",
      "          0       0.75      0.60      0.67         5\n",
      "          1       0.88      0.94      0.91        16\n",
      "\n",
      "avg / total       0.85      0.86      0.85        21\n",
      "\n",
      "Normalized confusion matrix\n",
      "[[0.6    0.4   ]\n",
      " [0.0625 0.9375]]\n"
     ]
    },
    {
     "data": {
      "image/png": "[encoded data removed]",
      "text/plain": [
       "<Figure size 432x288 with 2 Axes>"
      ]
     },
     "metadata": {
      "needs_background": "light"
     },
     "output_type": "display_data"
    }
   ],
   "source": [
    "cm = confusion_matrix(y_test, y_pred)\n",
    "print('confusion matrix:')\n",
    "print(cm)\n",
    "#print('\\n')\n",
    "print('classification report:')\n",
    "print(classification_report(y_test, y_pred))\n",
    "plot_confusion_matrix(cm, classes=['Negative Class', 'Positive Class'], normalize=True, title='Normalized confusion matrix')"
   ]
  },
  {
   "cell_type": "code",
   "execution_count": 200,
   "metadata": {},
   "outputs": [
    {
     "data": {
      "image/png": "[encoded data removed]",
      "text/plain": [
       "<Figure size 432x288 with 1 Axes>"
      ]
     },
     "metadata": {
      "needs_background": "light"
     },
     "output_type": "display_data"
    }
   ],
   "source": [
    "def plot_roc_curve_lstm(model, X_test, Y_test):\n",
    "    probas_ = model.predict(X_test)\n",
    "    # Compute ROC curve and area the curve\n",
    "    fpr, tpr, thresholds = roc_curve(Y_test, probas_[:, 1])\n",
    "    roc_auc = auc(fpr, tpr)\n",
    "    plt.plot(fpr, tpr, lw=1, alpha=0.3,\n",
    "             label='ROC Curve (AUC = %0.2f)' % (roc_auc))\n",
    "    plt.plot([0, 1], [0, 1], linestyle='--', lw=2, color='r',\n",
    "         label='Luck', alpha=.8)\n",
    "    plt.xlim([-0.05, 1.05])\n",
    "    plt.ylim([-0.05, 1.05])\n",
    "    plt.xlabel('False Positive Rate')\n",
    "    plt.ylabel('True Positive Rate')\n",
    "    #plt.title('Receiver operating characteristic')\n",
    "    plt.legend(loc=\"lower right\")\n",
    "    plt.show()\n",
    "    \n",
    "plt.title('Receiver operating characteristic - Test Set')\n",
    "plot_roc_curve_lstm(model,X_test,y_test)"
   ]
  },
  {
   "cell_type": "markdown",
   "metadata": {},
   "source": [
    "Looking at the confusion matrix, it stands out that the F-1 score corresponding to the positive class is significantly better than the negative class. This is usually the case for binary classification in imbalanced datasets, i.e. datasets where data from one class (the majority class) dominates the other class (minority class) in terms of population. Let's see if that's the case for this dataset:"
   ]
  },
  {
   "cell_type": "code",
   "execution_count": 204,
   "metadata": {},
   "outputs": [
    {
     "name": "stdout",
     "output_type": "stream",
     "text": [
      "29.89 percent of test data belong to the negative class\n",
      "70.11 percent of test data belong to the positive class\n",
      "imbalance ratio: 0.43\n"
     ]
    }
   ],
   "source": [
    "nnz_train = np.count_nonzero(y_train) # class 1 population\n",
    "nz_train = len(y_train) - nnz_train # class 0 population\n",
    "class_0_ratio = 100* (nz_train / len(y_train))\n",
    "class_1_ratio = 100* (nnz_train / len(y_train))\n",
    "print('%0.2f percent of test data belong to the negative class' % class_0_ratio)\n",
    "print('%0.2f percent of test data belong to the positive class' % class_1_ratio)\n",
    "\n",
    "# Find out imbalance ratio\n",
    "imbalance_ratio = nz_train / nnz_train\n",
    "print('imbalance ratio: %0.2f' % (imbalance_ratio))"
   ]
  },
  {
   "cell_type": "markdown",
   "metadata": {},
   "source": [
    "The above confirms that the dataset is slightly imbalanced. I am going to use this insight in building the next model that is going to hopefully outperform the LSTM model. With that being said, I am going to talk about my second classification approach next."
   ]
  },
  {
   "cell_type": "markdown",
   "metadata": {},
   "source": [
    "## Approach 2: Ensemble Tree Classifier\n",
    "Ensemble trees have become very popular in classification tasks and tend to perform very well on a variety of different applications. Given that the dataset is slightly imbalanced, boosting would be a more suitable approach here than bagging. That is because boosting ensemble models penalize inaccurate classifications through assigning larger weights to misclassified examples on the go as sequential classifiers are trained on the data. With imbalanced datasets, classifiers tend to lean towards the majority class (in the case of this dataset the positive class) and thus penalizing the examples inaccurately predicted as the majority class would be a great way to deal with this issue, which is exactly what boosting does.\n",
    "\n",
    "As for the choice of the boosting tree, I chose XGBoost over GBM because xgboost is much faster and more efficient computationally. Plus it is more robust to overfitting. In other words, there are several parameters that you can tune which allows for model complexity control.\n",
    "\n",
    "Unlike LSTMs, where you can directly use the reshaped timeseries sequences as inputs to the model, for the tree model, we first need to extract features from the timeseries sequences. Let's start by doing that!"
   ]
  },
  {
   "cell_type": "markdown",
   "metadata": {},
   "source": [
    "### Feature Extraction\n",
    "In order to tackle the problem as a classification problem, first step is to come up with a set of features per timeseries instance. I have used the Python package tsfresh to automatically extract features from the time-series data. I have used the minimal settings for feature extraction due to the relatively smaller size of the dataset. This setting extracts time-domain/statistical features (such as the mean, median, std, etc) from the timeseries."
   ]
  },
  {
   "cell_type": "code",
   "execution_count": 205,
   "metadata": {},
   "outputs": [
    {
     "name": "stderr",
     "output_type": "stream",
     "text": [
      "Feature Extraction: 100%|██████████| 10/10 [00:00<00:00, 11.89it/s]\n"
     ]
    }
   ],
   "source": [
    "Train_Feat = tsfresh.extract_features(train, column_id = \"ID_TestSet\", default_fc_parameters=MinimalFCParameters())"
   ]
  },
  {
   "cell_type": "code",
   "execution_count": 206,
   "metadata": {},
   "outputs": [
    {
     "data": {
      "text/plain": [
       "(184, 112)"
      ]
     },
     "execution_count": 206,
     "metadata": {},
     "output_type": "execute_result"
    }
   ],
   "source": [
    "Train_Feat.shape"
   ]
  },
  {
   "cell_type": "code",
   "execution_count": 207,
   "metadata": {},
   "outputs": [
    {
     "data": {
      "text/html": [
       "<div>\n",
       "<style scoped>\n",
       "    .dataframe tbody tr th:only-of-type {\n",
       "        vertical-align: middle;\n",
       "    }\n",
       "\n",
       "    .dataframe tbody tr th {\n",
       "        vertical-align: top;\n",
       "    }\n",
       "\n",
       "    .dataframe thead th {\n",
       "        text-align: right;\n",
       "    }\n",
       "</style>\n",
       "<table border=\"1\" class=\"dataframe\">\n",
       "  <thead>\n",
       "    <tr style=\"text-align: right;\">\n",
       "      <th>variable</th>\n",
       "      <th>bl__length</th>\n",
       "      <th>bl__maximum</th>\n",
       "      <th>bl__mean</th>\n",
       "      <th>bl__median</th>\n",
       "      <th>bl__minimum</th>\n",
       "      <th>bl__standard_deviation</th>\n",
       "      <th>bl__sum_values</th>\n",
       "      <th>bl__variance</th>\n",
       "      <th>bm__length</th>\n",
       "      <th>bm__maximum</th>\n",
       "      <th>...</th>\n",
       "      <th>vy__sum_values</th>\n",
       "      <th>vy__variance</th>\n",
       "      <th>vz__length</th>\n",
       "      <th>vz__maximum</th>\n",
       "      <th>vz__mean</th>\n",
       "      <th>vz__median</th>\n",
       "      <th>vz__minimum</th>\n",
       "      <th>vz__standard_deviation</th>\n",
       "      <th>vz__sum_values</th>\n",
       "      <th>vz__variance</th>\n",
       "    </tr>\n",
       "    <tr>\n",
       "      <th>id</th>\n",
       "      <th></th>\n",
       "      <th></th>\n",
       "      <th></th>\n",
       "      <th></th>\n",
       "      <th></th>\n",
       "      <th></th>\n",
       "      <th></th>\n",
       "      <th></th>\n",
       "      <th></th>\n",
       "      <th></th>\n",
       "      <th></th>\n",
       "      <th></th>\n",
       "      <th></th>\n",
       "      <th></th>\n",
       "      <th></th>\n",
       "      <th></th>\n",
       "      <th></th>\n",
       "      <th></th>\n",
       "      <th></th>\n",
       "      <th></th>\n",
       "      <th></th>\n",
       "    </tr>\n",
       "  </thead>\n",
       "  <tbody>\n",
       "    <tr>\n",
       "      <th>2</th>\n",
       "      <td>89.0</td>\n",
       "      <td>0.620646</td>\n",
       "      <td>-0.058786</td>\n",
       "      <td>-0.143973</td>\n",
       "      <td>-0.696461</td>\n",
       "      <td>0.329902</td>\n",
       "      <td>-5.231949</td>\n",
       "      <td>0.108835</td>\n",
       "      <td>89.0</td>\n",
       "      <td>0.036065</td>\n",
       "      <td>...</td>\n",
       "      <td>60.362131</td>\n",
       "      <td>0.055065</td>\n",
       "      <td>89.0</td>\n",
       "      <td>2.018660</td>\n",
       "      <td>1.051772</td>\n",
       "      <td>1.017112</td>\n",
       "      <td>0.326891</td>\n",
       "      <td>0.354175</td>\n",
       "      <td>93.607724</td>\n",
       "      <td>0.125440</td>\n",
       "    </tr>\n",
       "    <tr>\n",
       "      <th>5</th>\n",
       "      <td>89.0</td>\n",
       "      <td>1.353424</td>\n",
       "      <td>1.150740</td>\n",
       "      <td>1.161086</td>\n",
       "      <td>0.837941</td>\n",
       "      <td>0.092047</td>\n",
       "      <td>102.415857</td>\n",
       "      <td>0.008473</td>\n",
       "      <td>89.0</td>\n",
       "      <td>2.250316</td>\n",
       "      <td>...</td>\n",
       "      <td>-11.035501</td>\n",
       "      <td>0.020595</td>\n",
       "      <td>89.0</td>\n",
       "      <td>0.831245</td>\n",
       "      <td>0.461779</td>\n",
       "      <td>0.462737</td>\n",
       "      <td>0.166135</td>\n",
       "      <td>0.144593</td>\n",
       "      <td>41.098354</td>\n",
       "      <td>0.020907</td>\n",
       "    </tr>\n",
       "    <tr>\n",
       "      <th>8</th>\n",
       "      <td>89.0</td>\n",
       "      <td>0.749732</td>\n",
       "      <td>0.440288</td>\n",
       "      <td>0.437344</td>\n",
       "      <td>0.273835</td>\n",
       "      <td>0.075808</td>\n",
       "      <td>39.185674</td>\n",
       "      <td>0.005747</td>\n",
       "      <td>89.0</td>\n",
       "      <td>0.363479</td>\n",
       "      <td>...</td>\n",
       "      <td>-92.830274</td>\n",
       "      <td>0.022782</td>\n",
       "      <td>89.0</td>\n",
       "      <td>-0.851447</td>\n",
       "      <td>-1.194040</td>\n",
       "      <td>-1.198474</td>\n",
       "      <td>-1.433153</td>\n",
       "      <td>0.121798</td>\n",
       "      <td>-106.269563</td>\n",
       "      <td>0.014835</td>\n",
       "    </tr>\n",
       "    <tr>\n",
       "      <th>11</th>\n",
       "      <td>89.0</td>\n",
       "      <td>1.047921</td>\n",
       "      <td>0.514709</td>\n",
       "      <td>0.553522</td>\n",
       "      <td>0.113769</td>\n",
       "      <td>0.273098</td>\n",
       "      <td>45.809076</td>\n",
       "      <td>0.074583</td>\n",
       "      <td>89.0</td>\n",
       "      <td>-0.642524</td>\n",
       "      <td>...</td>\n",
       "      <td>-18.734620</td>\n",
       "      <td>0.192510</td>\n",
       "      <td>89.0</td>\n",
       "      <td>2.603694</td>\n",
       "      <td>1.593528</td>\n",
       "      <td>1.682121</td>\n",
       "      <td>0.819042</td>\n",
       "      <td>0.505479</td>\n",
       "      <td>141.823985</td>\n",
       "      <td>0.255509</td>\n",
       "    </tr>\n",
       "    <tr>\n",
       "      <th>17</th>\n",
       "      <td>89.0</td>\n",
       "      <td>0.625810</td>\n",
       "      <td>0.394166</td>\n",
       "      <td>0.392594</td>\n",
       "      <td>-0.030377</td>\n",
       "      <td>0.161558</td>\n",
       "      <td>35.080740</td>\n",
       "      <td>0.026101</td>\n",
       "      <td>89.0</td>\n",
       "      <td>-0.860994</td>\n",
       "      <td>...</td>\n",
       "      <td>-87.135102</td>\n",
       "      <td>0.100431</td>\n",
       "      <td>89.0</td>\n",
       "      <td>1.519348</td>\n",
       "      <td>0.337610</td>\n",
       "      <td>0.217468</td>\n",
       "      <td>-1.297308</td>\n",
       "      <td>0.732260</td>\n",
       "      <td>30.047248</td>\n",
       "      <td>0.536205</td>\n",
       "    </tr>\n",
       "  </tbody>\n",
       "</table>\n",
       "<p>5 rows × 112 columns</p>\n",
       "</div>"
      ],
      "text/plain": [
       "variable  bl__length  bl__maximum  bl__mean  bl__median  bl__minimum  \\\n",
       "id                                                                     \n",
       "2               89.0     0.620646 -0.058786   -0.143973    -0.696461   \n",
       "5               89.0     1.353424  1.150740    1.161086     0.837941   \n",
       "8               89.0     0.749732  0.440288    0.437344     0.273835   \n",
       "11              89.0     1.047921  0.514709    0.553522     0.113769   \n",
       "17              89.0     0.625810  0.394166    0.392594    -0.030377   \n",
       "\n",
       "variable  bl__standard_deviation  bl__sum_values  bl__variance  bm__length  \\\n",
       "id                                                                           \n",
       "2                       0.329902       -5.231949      0.108835        89.0   \n",
       "5                       0.092047      102.415857      0.008473        89.0   \n",
       "8                       0.075808       39.185674      0.005747        89.0   \n",
       "11                      0.273098       45.809076      0.074583        89.0   \n",
       "17                      0.161558       35.080740      0.026101        89.0   \n",
       "\n",
       "variable  bm__maximum      ...       vy__sum_values  vy__variance  vz__length  \\\n",
       "id                         ...                                                  \n",
       "2            0.036065      ...            60.362131      0.055065        89.0   \n",
       "5            2.250316      ...           -11.035501      0.020595        89.0   \n",
       "8            0.363479      ...           -92.830274      0.022782        89.0   \n",
       "11          -0.642524      ...           -18.734620      0.192510        89.0   \n",
       "17          -0.860994      ...           -87.135102      0.100431        89.0   \n",
       "\n",
       "variable  vz__maximum  vz__mean  vz__median  vz__minimum  \\\n",
       "id                                                         \n",
       "2            2.018660  1.051772    1.017112     0.326891   \n",
       "5            0.831245  0.461779    0.462737     0.166135   \n",
       "8           -0.851447 -1.194040   -1.198474    -1.433153   \n",
       "11           2.603694  1.593528    1.682121     0.819042   \n",
       "17           1.519348  0.337610    0.217468    -1.297308   \n",
       "\n",
       "variable  vz__standard_deviation  vz__sum_values  vz__variance  \n",
       "id                                                              \n",
       "2                       0.354175       93.607724      0.125440  \n",
       "5                       0.144593       41.098354      0.020907  \n",
       "8                       0.121798     -106.269563      0.014835  \n",
       "11                      0.505479      141.823985      0.255509  \n",
       "17                      0.732260       30.047248      0.536205  \n",
       "\n",
       "[5 rows x 112 columns]"
      ]
     },
     "execution_count": 207,
     "metadata": {},
     "output_type": "execute_result"
    }
   ],
   "source": [
    "Train_Feat.head()"
   ]
  },
  {
   "cell_type": "code",
   "execution_count": 208,
   "metadata": {},
   "outputs": [
    {
     "data": {
      "text/plain": [
       "False"
      ]
     },
     "execution_count": 208,
     "metadata": {},
     "output_type": "execute_result"
    }
   ],
   "source": [
    "Train_Feat.isnull().values.any()"
   ]
  },
  {
   "cell_type": "code",
   "execution_count": 209,
   "metadata": {},
   "outputs": [
    {
     "name": "stderr",
     "output_type": "stream",
     "text": [
      "Feature Extraction: 100%|██████████| 10/10 [00:00<00:00, 108.53it/s]\n"
     ]
    }
   ],
   "source": [
    "Test_Feat = tsfresh.extract_features(test, column_id = \"ID_TestSet\", default_fc_parameters=MinimalFCParameters())"
   ]
  },
  {
   "cell_type": "code",
   "execution_count": 210,
   "metadata": {},
   "outputs": [
    {
     "data": {
      "text/plain": [
       "(21, 112)"
      ]
     },
     "execution_count": 210,
     "metadata": {},
     "output_type": "execute_result"
    }
   ],
   "source": [
    "Test_Feat.shape"
   ]
  },
  {
   "cell_type": "code",
   "execution_count": 211,
   "metadata": {},
   "outputs": [
    {
     "data": {
      "text/html": [
       "<div>\n",
       "<style scoped>\n",
       "    .dataframe tbody tr th:only-of-type {\n",
       "        vertical-align: middle;\n",
       "    }\n",
       "\n",
       "    .dataframe tbody tr th {\n",
       "        vertical-align: top;\n",
       "    }\n",
       "\n",
       "    .dataframe thead th {\n",
       "        text-align: right;\n",
       "    }\n",
       "</style>\n",
       "<table border=\"1\" class=\"dataframe\">\n",
       "  <thead>\n",
       "    <tr style=\"text-align: right;\">\n",
       "      <th>variable</th>\n",
       "      <th>bl__length</th>\n",
       "      <th>bl__maximum</th>\n",
       "      <th>bl__mean</th>\n",
       "      <th>bl__median</th>\n",
       "      <th>bl__minimum</th>\n",
       "      <th>bl__standard_deviation</th>\n",
       "      <th>bl__sum_values</th>\n",
       "      <th>bl__variance</th>\n",
       "      <th>bm__length</th>\n",
       "      <th>bm__maximum</th>\n",
       "      <th>...</th>\n",
       "      <th>vy__sum_values</th>\n",
       "      <th>vy__variance</th>\n",
       "      <th>vz__length</th>\n",
       "      <th>vz__maximum</th>\n",
       "      <th>vz__mean</th>\n",
       "      <th>vz__median</th>\n",
       "      <th>vz__minimum</th>\n",
       "      <th>vz__standard_deviation</th>\n",
       "      <th>vz__sum_values</th>\n",
       "      <th>vz__variance</th>\n",
       "    </tr>\n",
       "    <tr>\n",
       "      <th>id</th>\n",
       "      <th></th>\n",
       "      <th></th>\n",
       "      <th></th>\n",
       "      <th></th>\n",
       "      <th></th>\n",
       "      <th></th>\n",
       "      <th></th>\n",
       "      <th></th>\n",
       "      <th></th>\n",
       "      <th></th>\n",
       "      <th></th>\n",
       "      <th></th>\n",
       "      <th></th>\n",
       "      <th></th>\n",
       "      <th></th>\n",
       "      <th></th>\n",
       "      <th></th>\n",
       "      <th></th>\n",
       "      <th></th>\n",
       "      <th></th>\n",
       "      <th></th>\n",
       "    </tr>\n",
       "  </thead>\n",
       "  <tbody>\n",
       "    <tr>\n",
       "      <th>14</th>\n",
       "      <td>89.0</td>\n",
       "      <td>0.793621</td>\n",
       "      <td>0.629412</td>\n",
       "      <td>0.655069</td>\n",
       "      <td>0.063855</td>\n",
       "      <td>0.129215</td>\n",
       "      <td>56.017625</td>\n",
       "      <td>0.016697</td>\n",
       "      <td>89.0</td>\n",
       "      <td>0.105025</td>\n",
       "      <td>...</td>\n",
       "      <td>-128.164987</td>\n",
       "      <td>0.118531</td>\n",
       "      <td>89.0</td>\n",
       "      <td>2.087541</td>\n",
       "      <td>0.940563</td>\n",
       "      <td>1.070664</td>\n",
       "      <td>-0.948264</td>\n",
       "      <td>0.800637</td>\n",
       "      <td>83.710147</td>\n",
       "      <td>0.641020</td>\n",
       "    </tr>\n",
       "    <tr>\n",
       "      <th>32</th>\n",
       "      <td>89.0</td>\n",
       "      <td>1.145596</td>\n",
       "      <td>0.850777</td>\n",
       "      <td>0.854292</td>\n",
       "      <td>0.217898</td>\n",
       "      <td>0.133452</td>\n",
       "      <td>75.719156</td>\n",
       "      <td>0.017810</td>\n",
       "      <td>89.0</td>\n",
       "      <td>0.295099</td>\n",
       "      <td>...</td>\n",
       "      <td>-86.273144</td>\n",
       "      <td>0.021967</td>\n",
       "      <td>89.0</td>\n",
       "      <td>0.026155</td>\n",
       "      <td>-0.589594</td>\n",
       "      <td>-0.623121</td>\n",
       "      <td>-1.034794</td>\n",
       "      <td>0.211198</td>\n",
       "      <td>-52.473844</td>\n",
       "      <td>0.044605</td>\n",
       "    </tr>\n",
       "    <tr>\n",
       "      <th>59</th>\n",
       "      <td>89.0</td>\n",
       "      <td>0.886563</td>\n",
       "      <td>0.363417</td>\n",
       "      <td>0.262648</td>\n",
       "      <td>0.032444</td>\n",
       "      <td>0.228497</td>\n",
       "      <td>32.344118</td>\n",
       "      <td>0.052211</td>\n",
       "      <td>89.0</td>\n",
       "      <td>0.233673</td>\n",
       "      <td>...</td>\n",
       "      <td>-8.804487</td>\n",
       "      <td>0.500675</td>\n",
       "      <td>89.0</td>\n",
       "      <td>1.371501</td>\n",
       "      <td>-0.060683</td>\n",
       "      <td>-0.067233</td>\n",
       "      <td>-1.145326</td>\n",
       "      <td>0.499182</td>\n",
       "      <td>-5.400825</td>\n",
       "      <td>0.249182</td>\n",
       "    </tr>\n",
       "    <tr>\n",
       "      <th>71</th>\n",
       "      <td>89.0</td>\n",
       "      <td>0.694656</td>\n",
       "      <td>0.270456</td>\n",
       "      <td>0.225213</td>\n",
       "      <td>-0.109980</td>\n",
       "      <td>0.183761</td>\n",
       "      <td>24.070567</td>\n",
       "      <td>0.033768</td>\n",
       "      <td>89.0</td>\n",
       "      <td>1.265174</td>\n",
       "      <td>...</td>\n",
       "      <td>7.462708</td>\n",
       "      <td>0.055385</td>\n",
       "      <td>89.0</td>\n",
       "      <td>3.062967</td>\n",
       "      <td>2.200065</td>\n",
       "      <td>2.149967</td>\n",
       "      <td>0.858979</td>\n",
       "      <td>0.400952</td>\n",
       "      <td>195.805774</td>\n",
       "      <td>0.160762</td>\n",
       "    </tr>\n",
       "    <tr>\n",
       "      <th>101</th>\n",
       "      <td>89.0</td>\n",
       "      <td>1.349121</td>\n",
       "      <td>0.922886</td>\n",
       "      <td>0.852571</td>\n",
       "      <td>0.600853</td>\n",
       "      <td>0.229401</td>\n",
       "      <td>82.136881</td>\n",
       "      <td>0.052625</td>\n",
       "      <td>89.0</td>\n",
       "      <td>1.521891</td>\n",
       "      <td>...</td>\n",
       "      <td>78.454591</td>\n",
       "      <td>0.245541</td>\n",
       "      <td>89.0</td>\n",
       "      <td>2.882647</td>\n",
       "      <td>1.869759</td>\n",
       "      <td>2.037418</td>\n",
       "      <td>0.000438</td>\n",
       "      <td>0.669740</td>\n",
       "      <td>166.408534</td>\n",
       "      <td>0.448552</td>\n",
       "    </tr>\n",
       "  </tbody>\n",
       "</table>\n",
       "<p>5 rows × 112 columns</p>\n",
       "</div>"
      ],
      "text/plain": [
       "variable  bl__length  bl__maximum  bl__mean  bl__median  bl__minimum  \\\n",
       "id                                                                     \n",
       "14              89.0     0.793621  0.629412    0.655069     0.063855   \n",
       "32              89.0     1.145596  0.850777    0.854292     0.217898   \n",
       "59              89.0     0.886563  0.363417    0.262648     0.032444   \n",
       "71              89.0     0.694656  0.270456    0.225213    -0.109980   \n",
       "101             89.0     1.349121  0.922886    0.852571     0.600853   \n",
       "\n",
       "variable  bl__standard_deviation  bl__sum_values  bl__variance  bm__length  \\\n",
       "id                                                                           \n",
       "14                      0.129215       56.017625      0.016697        89.0   \n",
       "32                      0.133452       75.719156      0.017810        89.0   \n",
       "59                      0.228497       32.344118      0.052211        89.0   \n",
       "71                      0.183761       24.070567      0.033768        89.0   \n",
       "101                     0.229401       82.136881      0.052625        89.0   \n",
       "\n",
       "variable  bm__maximum      ...       vy__sum_values  vy__variance  vz__length  \\\n",
       "id                         ...                                                  \n",
       "14           0.105025      ...          -128.164987      0.118531        89.0   \n",
       "32           0.295099      ...           -86.273144      0.021967        89.0   \n",
       "59           0.233673      ...            -8.804487      0.500675        89.0   \n",
       "71           1.265174      ...             7.462708      0.055385        89.0   \n",
       "101          1.521891      ...            78.454591      0.245541        89.0   \n",
       "\n",
       "variable  vz__maximum  vz__mean  vz__median  vz__minimum  \\\n",
       "id                                                         \n",
       "14           2.087541  0.940563    1.070664    -0.948264   \n",
       "32           0.026155 -0.589594   -0.623121    -1.034794   \n",
       "59           1.371501 -0.060683   -0.067233    -1.145326   \n",
       "71           3.062967  2.200065    2.149967     0.858979   \n",
       "101          2.882647  1.869759    2.037418     0.000438   \n",
       "\n",
       "variable  vz__standard_deviation  vz__sum_values  vz__variance  \n",
       "id                                                              \n",
       "14                      0.800637       83.710147      0.641020  \n",
       "32                      0.211198      -52.473844      0.044605  \n",
       "59                      0.499182       -5.400825      0.249182  \n",
       "71                      0.400952      195.805774      0.160762  \n",
       "101                     0.669740      166.408534      0.448552  \n",
       "\n",
       "[5 rows x 112 columns]"
      ]
     },
     "execution_count": 211,
     "metadata": {},
     "output_type": "execute_result"
    }
   ],
   "source": [
    "Test_Feat.head()"
   ]
  },
  {
   "cell_type": "markdown",
   "metadata": {},
   "source": [
    "Possible extension of the work could be to extract features using a sliding window, rather than from the whole timeseries sequence at once. The model could benefit from the use of sliding window because sliding windows would be better able to capture the variations within the timeseries data. Especially if the timeseries is non-stationary, sliding windows would result in more meaningful features."
   ]
  },
  {
   "cell_type": "markdown",
   "metadata": {},
   "source": [
    "### Feature Selection\n",
    "Looking at dimensions of the train and test set, there are too many features in the dataset compared to the number of examples. Thus, our model could benefit from feature selection. I have used feature importances inherent to ensemble tree classifier XGBoost to select the most informative features and thus reducing the dimensions of the feature space:"
   ]
  },
  {
   "cell_type": "code",
   "execution_count": 212,
   "metadata": {},
   "outputs": [
    {
     "data": {
      "image/png": "[encoded data removed]",
      "text/plain": [
       "<Figure size 720x1440 with 1 Axes>"
      ]
     },
     "metadata": {
      "needs_background": "light"
     },
     "output_type": "display_data"
    }
   ],
   "source": [
    "from xgboost import plot_importance\n",
    "model = XGBClassifier()\n",
    "model.fit(Train_Feat, y_train)\n",
    "# feature importance\n",
    "_, ax = plt.subplots(figsize=(10, 20))\n",
    "plot_importance(model, ax=ax)\n",
    "plt.show()"
   ]
  },
  {
   "cell_type": "code",
   "execution_count": 213,
   "metadata": {},
   "outputs": [
    {
     "name": "stdout",
     "output_type": "stream",
     "text": [
      "[0.         0.0093985  0.0075188  0.0075188  0.01315789 0.02067669\n",
      " 0.         0.         0.         0.         0.0075188  0.\n",
      " 0.0112782  0.01691729 0.         0.         0.         0.01315789\n",
      " 0.0093985  0.03759398 0.03571429 0.02819549 0.         0.\n",
      " 0.         0.07518797 0.01503759 0.01691729 0.06203008 0.02443609\n",
      " 0.         0.         0.         0.0056391  0.02631579 0.0056391\n",
      " 0.03007519 0.01691729 0.         0.         0.         0.\n",
      " 0.0075188  0.01503759 0.0112782  0.0093985  0.         0.\n",
      " 0.         0.0112782  0.01691729 0.01503759 0.02255639 0.01879699\n",
      " 0.         0.         0.         0.03007519 0.0018797  0.0018797\n",
      " 0.02067669 0.0112782  0.         0.         0.         0.0018797\n",
      " 0.0018797  0.0018797  0.05451128 0.0018797  0.         0.\n",
      " 0.         0.0056391  0.         0.         0.0093985  0.0037594\n",
      " 0.         0.         0.         0.0075188  0.0056391  0.0075188\n",
      " 0.02631579 0.0018797  0.         0.         0.         0.03007519\n",
      " 0.0056391  0.0093985  0.0056391  0.02067669 0.         0.\n",
      " 0.         0.0112782  0.01503759 0.         0.0112782  0.0093985\n",
      " 0.         0.         0.         0.03007519 0.01879699 0.0018797\n",
      " 0.0093985  0.0018797  0.         0.        ]\n"
     ]
    }
   ],
   "source": [
    "print(model.feature_importances_)"
   ]
  },
  {
   "cell_type": "code",
   "execution_count": 214,
   "metadata": {},
   "outputs": [
    {
     "name": "stdout",
     "output_type": "stream",
     "text": [
      "[0.075187966, 0.062030077, 0.05451128, 0.037593983, 0.035714287, 0.030075189, 0.030075189, 0.030075189, 0.030075189, 0.02819549, 0.02631579, 0.02631579, 0.02443609, 0.02255639, 0.020676691, 0.020676691, 0.020676691, 0.018796992, 0.018796992, 0.016917294, 0.016917294, 0.016917294, 0.016917294, 0.015037594, 0.015037594, 0.015037594, 0.015037594, 0.013157895, 0.013157895, 0.011278195, 0.011278195, 0.011278195, 0.011278195, 0.011278195, 0.011278195, 0.009398496, 0.009398496, 0.009398496, 0.009398496, 0.009398496, 0.009398496, 0.009398496, 0.007518797, 0.007518797, 0.007518797, 0.007518797, 0.007518797, 0.007518797, 0.0056390977, 0.0056390977, 0.0056390977, 0.0056390977, 0.0056390977, 0.0056390977, 0.0037593986, 0.0018796993, 0.0018796993, 0.0018796993, 0.0018796993, 0.0018796993, 0.0018796993, 0.0018796993, 0.0018796993, 0.0018796993, 0.0, 0.0, 0.0, 0.0, 0.0, 0.0, 0.0, 0.0, 0.0, 0.0, 0.0, 0.0, 0.0, 0.0, 0.0, 0.0, 0.0, 0.0, 0.0, 0.0, 0.0, 0.0, 0.0, 0.0, 0.0, 0.0, 0.0, 0.0, 0.0, 0.0, 0.0, 0.0, 0.0, 0.0, 0.0, 0.0, 0.0, 0.0, 0.0, 0.0, 0.0, 0.0, 0.0, 0.0, 0.0, 0.0, 0.0, 0.0]\n"
     ]
    }
   ],
   "source": [
    "print(sorted(model.feature_importances_, reverse=True))"
   ]
  },
  {
   "cell_type": "markdown",
   "metadata": {},
   "source": [
    "As the feature importance values confirm, not all features are as important according to the model. Thus, we perform feature selection to avoid overfitting:"
   ]
  },
  {
   "cell_type": "code",
   "execution_count": 215,
   "metadata": {},
   "outputs": [
    {
     "name": "stdout",
     "output_type": "stream",
     "text": [
      "(184, 17)\n",
      "(21, 17)\n"
     ]
    }
   ],
   "source": [
    "sel_thresh = 0.02\n",
    "selection = SelectFromModel(model, threshold=sel_thresh, prefit=True)\n",
    "select_train_feat = selection.transform(Train_Feat)\n",
    "select_test_feat = selection.transform(Test_Feat)\n",
    "\n",
    "print(select_train_feat.shape)\n",
    "print(select_test_feat.shape)"
   ]
  },
  {
   "cell_type": "markdown",
   "metadata": {},
   "source": [
    "### Building XGboost Model"
   ]
  },
  {
   "cell_type": "markdown",
   "metadata": {},
   "source": [
    "### Cross Validation"
   ]
  },
  {
   "cell_type": "markdown",
   "metadata": {},
   "source": [
    "I have used k-fold cross validation to tune XGBoost hyperparameters. Area under the ROC curve has been used to tune parameters; however, depending on the particular applications and whether the costumer wants to put more emphasis on false positives versus false negatives or vice versa, we can choose to tune differently, e.g. use precision, recall, etc instead. Furthermore, to account for the slight imabalnce in data, I have tuned the hyperparameter in XGBoost called \"scale_pos_weight\" which can be used to adjust the relative class populations."
   ]
  },
  {
   "cell_type": "code",
   "execution_count": 216,
   "metadata": {},
   "outputs": [
    {
     "name": "stdout",
     "output_type": "stream",
     "text": [
      "Fitting 3 folds for each of 18 candidates, totalling 54 fits\n",
      "[CV] scale_pos_weight=0.3, min_child_weight=1, max_depth=3 ...........\n",
      "[CV] scale_pos_weight=0.3, min_child_weight=1, max_depth=3 ...........\n",
      "[CV] scale_pos_weight=0.3, min_child_weight=1, max_depth=3 ...........\n",
      "[CV] scale_pos_weight=0.5, min_child_weight=1, max_depth=3 ...........\n",
      "[CV]  scale_pos_weight=0.3, min_child_weight=1, max_depth=3, score=0.687339 -   0.1s\n",
      "[CV]  scale_pos_weight=0.3, min_child_weight=1, max_depth=3, score=0.565891 -   0.1s\n",
      "[CV] scale_pos_weight=0.5, min_child_weight=1, max_depth=3 ...........\n",
      "[CV] scale_pos_weight=0.5, min_child_weight=1, max_depth=3 ...........\n",
      "[CV]  scale_pos_weight=0.3, min_child_weight=1, max_depth=3, score=0.709914 -   0.1s\n",
      "[CV] scale_pos_weight=1, min_child_weight=1, max_depth=3 .............\n",
      "[CV]  scale_pos_weight=0.5, min_child_weight=1, max_depth=3, score=0.685435 -   0.1s\n",
      "[CV] scale_pos_weight=1, min_child_weight=1, max_depth=3 .............\n",
      "[CV]  scale_pos_weight=0.5, min_child_weight=1, max_depth=3, score=0.582687 -   0.1s\n",
      "[CV]  scale_pos_weight=1, min_child_weight=1, max_depth=3, score=0.725826 -   0.1s\n",
      "[CV]  scale_pos_weight=0.5, min_child_weight=1, max_depth=3, score=0.680879 -   0.1s\n",
      "[CV] scale_pos_weight=0.3, min_child_weight=5, max_depth=3 ...........\n",
      "[CV] scale_pos_weight=0.5, min_child_weight=5, max_depth=3 ...........\n",
      "[CV]  scale_pos_weight=1, min_child_weight=1, max_depth=3, score=0.593023 -   0.1s\n",
      "[CV] scale_pos_weight=0.5, min_child_weight=5, max_depth=3 ...........\n",
      "[CV] scale_pos_weight=1, min_child_weight=1, max_depth=3 .............\n",
      "[CV]  scale_pos_weight=0.3, min_child_weight=5, max_depth=3, score=0.483204 -   0.1s\n",
      "[CV] scale_pos_weight=0.3, min_child_weight=5, max_depth=3 ...........\n",
      "[CV]  scale_pos_weight=0.5, min_child_weight=5, max_depth=3, score=0.637699 -   0.1s\n",
      "[CV]  scale_pos_weight=0.5, min_child_weight=5, max_depth=3, score=0.631783 -   0.1s\n",
      "[CV] scale_pos_weight=1, min_child_weight=5, max_depth=3 .............\n",
      "[CV] scale_pos_weight=0.5, min_child_weight=5, max_depth=3 ...........\n",
      "[CV]  scale_pos_weight=1, min_child_weight=1, max_depth=3, score=0.717054 -   0.1s\n",
      "[CV] scale_pos_weight=0.3, min_child_weight=5, max_depth=3 ...........\n",
      "[CV]  scale_pos_weight=0.3, min_child_weight=5, max_depth=3, score=0.567183 -   0.1s\n",
      "[CV] scale_pos_weight=1, min_child_weight=5, max_depth=3 .............\n",
      "[CV]  scale_pos_weight=0.5, min_child_weight=5, max_depth=3, score=0.459948 -   0.0s\n",
      "[CV] scale_pos_weight=0.3, min_child_weight=1, max_depth=4 ...........\n",
      "[CV]  scale_pos_weight=0.3, min_child_weight=5, max_depth=3, score=0.604039 -   0.0s\n",
      "[CV] scale_pos_weight=0.3, min_child_weight=1, max_depth=4 ...........\n",
      "[CV]  scale_pos_weight=1, min_child_weight=5, max_depth=3, score=0.670747 -   0.1s\n",
      "[CV] scale_pos_weight=0.5, min_child_weight=1, max_depth=4 ...........\n",
      "[CV]  scale_pos_weight=1, min_child_weight=5, max_depth=3, score=0.472868 -   0.1s\n",
      "[CV] scale_pos_weight=1, min_child_weight=5, max_depth=3 .............\n",
      "[CV]  scale_pos_weight=0.3, min_child_weight=1, max_depth=4, score=0.679315 -   0.1s\n",
      "[CV] scale_pos_weight=0.3, min_child_weight=1, max_depth=4 ...........\n",
      "[CV]  scale_pos_weight=0.5, min_child_weight=1, max_depth=4, score=0.577519 -   0.1s\n",
      "[CV] scale_pos_weight=0.5, min_child_weight=1, max_depth=4 ...........\n",
      "[CV]  scale_pos_weight=0.3, min_child_weight=1, max_depth=4, score=0.674419 -   0.1s\n",
      "[CV] scale_pos_weight=0.5, min_child_weight=1, max_depth=4 ...........\n",
      "[CV]  scale_pos_weight=1, min_child_weight=5, max_depth=3, score=0.638243 -   0.1s\n",
      "[CV] scale_pos_weight=1, min_child_weight=1, max_depth=4 .............\n",
      "[CV]  scale_pos_weight=0.3, min_child_weight=1, max_depth=4, score=0.568475 -   0.1s\n",
      "[CV] scale_pos_weight=1, min_child_weight=1, max_depth=4 .............\n"
     ]
    },
    {
     "name": "stderr",
     "output_type": "stream",
     "text": [
      "[Parallel(n_jobs=-1)]: Done  12 tasks      | elapsed:    0.4s\n"
     ]
    },
    {
     "name": "stdout",
     "output_type": "stream",
     "text": [
      "[CV]  scale_pos_weight=0.5, min_child_weight=1, max_depth=4, score=0.716034 -   0.1s\n",
      "[CV]  scale_pos_weight=0.5, min_child_weight=1, max_depth=4, score=0.664083 -   0.1s\n",
      "[CV] scale_pos_weight=0.3, min_child_weight=5, max_depth=4 ...........\n",
      "[CV] scale_pos_weight=0.5, min_child_weight=5, max_depth=4 ...........\n",
      "[CV]  scale_pos_weight=1, min_child_weight=1, max_depth=4, score=0.713586 -   0.1s\n",
      "[CV] scale_pos_weight=1, min_child_weight=1, max_depth=4 .............\n",
      "[CV]  scale_pos_weight=0.3, min_child_weight=5, max_depth=4, score=0.483204 -   0.0s\n",
      "[CV] scale_pos_weight=0.3, min_child_weight=5, max_depth=4 ...........\n",
      "[CV]  scale_pos_weight=0.5, min_child_weight=5, max_depth=4, score=0.637699 -   0.1s\n",
      "[CV] scale_pos_weight=0.5, min_child_weight=5, max_depth=4 ...........\n",
      "[CV]  scale_pos_weight=1, min_child_weight=1, max_depth=4, score=0.737726 -   0.1s\n",
      "[CV] scale_pos_weight=0.3, min_child_weight=5, max_depth=4 ...........\n",
      "[CV]  scale_pos_weight=0.3, min_child_weight=5, max_depth=4, score=0.567183 -   0.0s\n",
      "[CV] scale_pos_weight=0.5, min_child_weight=5, max_depth=4 ...........\n",
      "[CV]  scale_pos_weight=0.5, min_child_weight=5, max_depth=4, score=0.459948 -   0.0s\n",
      "[CV] scale_pos_weight=1, min_child_weight=5, max_depth=4 .............\n",
      "[CV]  scale_pos_weight=1, min_child_weight=1, max_depth=4, score=0.607235 -   0.1s\n",
      "[CV] scale_pos_weight=0.3, min_child_weight=1, max_depth=5 ...........\n",
      "[CV]  scale_pos_weight=0.3, min_child_weight=5, max_depth=4, score=0.604039 -   0.0s\n",
      "[CV] scale_pos_weight=0.3, min_child_weight=1, max_depth=5 ...........\n",
      "[CV]  scale_pos_weight=0.5, min_child_weight=5, max_depth=4, score=0.631783 -   0.0s\n",
      "[CV] scale_pos_weight=1, min_child_weight=5, max_depth=4 .............\n",
      "[CV]  scale_pos_weight=1, min_child_weight=5, max_depth=4, score=0.479328 -   0.1s\n",
      "[CV] scale_pos_weight=1, min_child_weight=5, max_depth=4 .............\n",
      "[CV]  scale_pos_weight=0.3, min_child_weight=1, max_depth=5, score=0.670747 -   0.1s\n",
      "[CV] scale_pos_weight=0.3, min_child_weight=1, max_depth=5 ...........\n",
      "[CV]  scale_pos_weight=1, min_child_weight=5, max_depth=4, score=0.670747 -   0.1s\n",
      "[CV] scale_pos_weight=0.5, min_child_weight=1, max_depth=5 ...........\n",
      "[CV]  scale_pos_weight=0.3, min_child_weight=1, max_depth=5, score=0.678295 -   0.1s\n",
      "[CV] scale_pos_weight=0.5, min_child_weight=1, max_depth=5 ...........\n",
      "[CV]  scale_pos_weight=1, min_child_weight=5, max_depth=4, score=0.638243 -   0.1s\n",
      "[CV] scale_pos_weight=1, min_child_weight=1, max_depth=5 .............\n",
      "[CV]  scale_pos_weight=0.3, min_child_weight=1, max_depth=5, score=0.563307 -   0.1s\n",
      "[CV] scale_pos_weight=1, min_child_weight=1, max_depth=5 .............\n",
      "[CV]  scale_pos_weight=0.5, min_child_weight=1, max_depth=5, score=0.563307 -   0.1s\n",
      "[CV] scale_pos_weight=0.5, min_child_weight=1, max_depth=5 ...........\n",
      "[CV]  scale_pos_weight=0.5, min_child_weight=1, max_depth=5, score=0.735618 -   0.1s\n",
      "[CV] scale_pos_weight=0.3, min_child_weight=5, max_depth=5 ...........\n",
      "[CV]  scale_pos_weight=1, min_child_weight=1, max_depth=5, score=0.725826 -   0.1s\n",
      "[CV] scale_pos_weight=1, min_child_weight=1, max_depth=5 .............\n",
      "[CV]  scale_pos_weight=0.3, min_child_weight=5, max_depth=5, score=0.483204 -   0.0s\n",
      "[CV] scale_pos_weight=0.3, min_child_weight=5, max_depth=5 ...........\n",
      "[CV]  scale_pos_weight=1, min_child_weight=1, max_depth=5, score=0.726098 -   0.1s\n",
      "[CV] scale_pos_weight=0.3, min_child_weight=5, max_depth=5 ...........\n",
      "[CV]  scale_pos_weight=0.5, min_child_weight=1, max_depth=5, score=0.670543 -   0.1s\n",
      "[CV] scale_pos_weight=0.5, min_child_weight=5, max_depth=5 ...........\n",
      "[CV]  scale_pos_weight=0.3, min_child_weight=5, max_depth=5, score=0.604039 -   0.0s\n",
      "[CV] scale_pos_weight=0.5, min_child_weight=5, max_depth=5 ...........\n",
      "[CV]  scale_pos_weight=0.3, min_child_weight=5, max_depth=5, score=0.567183 -   0.0s\n",
      "[CV] scale_pos_weight=1, min_child_weight=5, max_depth=5 .............\n",
      "[CV]  scale_pos_weight=1, min_child_weight=1, max_depth=5, score=0.625323 -   0.1s\n",
      "[CV]  scale_pos_weight=0.5, min_child_weight=5, max_depth=5, score=0.637699 -   0.0s\n",
      "[CV] scale_pos_weight=0.5, min_child_weight=5, max_depth=5 ...........\n",
      "[CV]  scale_pos_weight=0.5, min_child_weight=5, max_depth=5, score=0.631783 -   0.0s\n",
      "[CV] scale_pos_weight=1, min_child_weight=5, max_depth=5 .............\n",
      "[CV]  scale_pos_weight=1, min_child_weight=5, max_depth=5, score=0.479328 -   0.0s\n",
      "[CV] scale_pos_weight=1, min_child_weight=5, max_depth=5 .............\n",
      "[CV]  scale_pos_weight=0.5, min_child_weight=5, max_depth=5, score=0.459948 -   0.0s\n",
      "[CV]  scale_pos_weight=1, min_child_weight=5, max_depth=5, score=0.670747 -   0.0s\n",
      "[CV]  scale_pos_weight=1, min_child_weight=5, max_depth=5, score=0.638243 -   0.0s\n"
     ]
    },
    {
     "name": "stderr",
     "output_type": "stream",
     "text": [
      "[Parallel(n_jobs=-1)]: Done  54 out of  54 | elapsed:    1.1s finished\n"
     ]
    },
    {
     "data": {
      "text/plain": [
       "XGBClassifier(base_score=0.5, booster='gbtree', colsample_bylevel=1,\n",
       "       colsample_bytree=1, gamma=0, learning_rate=0.1, max_delta_step=0,\n",
       "       max_depth=5, min_child_weight=1, missing=None, n_estimators=100,\n",
       "       n_jobs=1, nthread=None, objective='binary:logistic', random_state=0,\n",
       "       reg_alpha=0, reg_lambda=1, scale_pos_weight=1, seed=None,\n",
       "       silent=True, subsample=1)"
      ]
     },
     "execution_count": 216,
     "metadata": {},
     "output_type": "execute_result"
    }
   ],
   "source": [
    "cv_params = {\n",
    "        'min_child_weight': [1, 5],\n",
    "        'max_depth': [3, 4, 5],\n",
    "        'scale_pos_weight': [0.3, 0.5, 1],\n",
    "        }\n",
    "grid_search = GridSearchCV(XGBClassifier(random_state=0), cv_params, cv = 3, scoring = 'roc_auc', n_jobs=-1, verbose=5)\n",
    "grid_search.fit(select_train_feat, y_train)\n",
    "grid_search.best_estimator_"
   ]
  },
  {
   "cell_type": "markdown",
   "metadata": {},
   "source": [
    "Now, let's fit the best classifier to the training data:"
   ]
  },
  {
   "cell_type": "code",
   "execution_count": 217,
   "metadata": {},
   "outputs": [],
   "source": [
    "clf = grid_search.best_estimator_"
   ]
  },
  {
   "cell_type": "markdown",
   "metadata": {},
   "source": [
    "### Model Evaluation"
   ]
  },
  {
   "cell_type": "code",
   "execution_count": 218,
   "metadata": {},
   "outputs": [
    {
     "name": "stderr",
     "output_type": "stream",
     "text": [
      "/Library/Frameworks/Python.framework/Versions/3.5/lib/python3.5/site-packages/sklearn/preprocessing/label.py:151: DeprecationWarning: The truth value of an empty array is ambiguous. Returning False, but in future this will result in an error. Use `array.size > 0` to check that an array is not empty.\n",
      "  if diff:\n"
     ]
    },
    {
     "data": {
      "text/plain": [
       "0.9047619047619048"
      ]
     },
     "execution_count": 218,
     "metadata": {},
     "output_type": "execute_result"
    }
   ],
   "source": [
    "clf.fit(select_train_feat, y_train)\n",
    "y_pred = clf.predict(select_test_feat)\n",
    "accuracy_score(y_test, y_pred)"
   ]
  },
  {
   "cell_type": "code",
   "execution_count": 219,
   "metadata": {},
   "outputs": [
    {
     "name": "stdout",
     "output_type": "stream",
     "text": [
      "confusion matrix:\n",
      "[[ 4  1]\n",
      " [ 1 15]]\n",
      "classification report:\n",
      "             precision    recall  f1-score   support\n",
      "\n",
      "          0       0.80      0.80      0.80         5\n",
      "          1       0.94      0.94      0.94        16\n",
      "\n",
      "avg / total       0.90      0.90      0.90        21\n",
      "\n"
     ]
    }
   ],
   "source": [
    "cm = confusion_matrix(y_test, y_pred)\n",
    "print('confusion matrix:')\n",
    "print(cm)\n",
    "#print('\\n')\n",
    "print('classification report:')\n",
    "print(classification_report(y_test, y_pred))"
   ]
  },
  {
   "cell_type": "code",
   "execution_count": 220,
   "metadata": {},
   "outputs": [],
   "source": [
    "def plot_confusion_matrix(cm, classes,\n",
    "                          normalize=False,\n",
    "                          title='Confusion matrix',\n",
    "                          cmap=plt.cm.Blues):\n",
    "    \"\"\"\n",
    "    This function prints and plots the confusion matrix.\n",
    "    Normalization can be applied by setting `normalize=True`.\n",
    "    \"\"\"\n",
    "    if normalize:\n",
    "        cm = cm.astype('float') / cm.sum(axis=1)[:, np.newaxis]\n",
    "        print(\"Normalized confusion matrix\")\n",
    "    else:\n",
    "        print('Confusion matrix, without normalization')\n",
    "\n",
    "    print(cm)\n",
    "\n",
    "    plt.imshow(cm, interpolation='nearest', cmap=cmap)\n",
    "    plt.title(title)\n",
    "    plt.colorbar()\n",
    "    tick_marks = np.arange(len(classes))\n",
    "    plt.xticks(tick_marks, classes, rotation=45)\n",
    "    plt.yticks(tick_marks, classes)\n",
    "\n",
    "    fmt = '.4f' if normalize else 'd'\n",
    "    thresh = cm.max() / 2.\n",
    "    for i, j in itertools.product(range(cm.shape[0]), range(cm.shape[1])):\n",
    "        plt.text(j, i, format(cm[i, j], fmt),\n",
    "                 horizontalalignment=\"center\",\n",
    "                 color=\"red\")\n",
    "                 #color=\"red\" if cm[i, j] > thresh else \"black\")\n",
    "    #plt.set_tight_layout(True)\n",
    "    plt.tight_layout()\n",
    "    plt.ylabel('True label')\n",
    "    plt.xlabel('Predicted label')"
   ]
  },
  {
   "cell_type": "code",
   "execution_count": 221,
   "metadata": {},
   "outputs": [
    {
     "name": "stdout",
     "output_type": "stream",
     "text": [
      "Normalized confusion matrix\n",
      "[[0.8    0.2   ]\n",
      " [0.0625 0.9375]]\n"
     ]
    },
    {
     "data": {
      "image/png": "[encoded data removed]",
      "text/plain": [
       "<Figure size 432x288 with 2 Axes>"
      ]
     },
     "metadata": {
      "needs_background": "light"
     },
     "output_type": "display_data"
    }
   ],
   "source": [
    "plot_confusion_matrix(cm, classes=['Negative Class', 'Positive Class'], normalize=True, title='Normalized confusion matrix')"
   ]
  },
  {
   "cell_type": "code",
   "execution_count": 222,
   "metadata": {},
   "outputs": [],
   "source": [
    "def plot_roc_curve(model, X_test, Y_test):\n",
    "    probas_ = model.predict_proba(X_test)\n",
    "    # Compute ROC curve and area the curve\n",
    "    fpr, tpr, thresholds = roc_curve(Y_test, probas_[:, 1])\n",
    "    roc_auc = auc(fpr, tpr)\n",
    "    plt.plot(fpr, tpr, lw=1, alpha=0.3,\n",
    "             label='ROC Curve (AUC = %0.2f)' % (roc_auc))\n",
    "    plt.plot([0, 1], [0, 1], linestyle='--', lw=2, color='r',\n",
    "         label='Luck', alpha=.8)\n",
    "    plt.xlim([-0.05, 1.05])\n",
    "    plt.ylim([-0.05, 1.05])\n",
    "    plt.xlabel('False Positive Rate')\n",
    "    plt.ylabel('True Positive Rate')\n",
    "    #plt.title('Receiver operating characteristic')\n",
    "    plt.legend(loc=\"lower right\")\n",
    "    plt.show()"
   ]
  },
  {
   "cell_type": "code",
   "execution_count": 57,
   "metadata": {},
   "outputs": [
    {
     "data": {
      "image/png": "[encoded data removed]",
      "text/plain": [
       "<Figure size 432x288 with 1 Axes>"
      ]
     },
     "metadata": {
      "needs_background": "light"
     },
     "output_type": "display_data"
    }
   ],
   "source": [
    "plt.title('Receiver operating characteristic - Test Set')\n",
    "plot_roc_curve(clf,select_test_feat,y_test)"
   ]
  },
  {
   "cell_type": "markdown",
   "metadata": {},
   "source": [
    "As the results show, the XGBoost model trained on manually-extracted timeseries features outperforms the LSTM model on this dataset."
   ]
  },
  {
   "cell_type": "markdown",
   "metadata": {},
   "source": [
    "## Anomaly Detection Analysis"
   ]
  },
  {
   "cell_type": "markdown",
   "metadata": {},
   "source": [
    "In this section, I am going to briefly explain how I would tackle this problem as an anomaly detection problem rather than a classification problem.\n",
    "\n"
   ]
  },
  {
   "cell_type": "markdown",
   "metadata": {},
   "source": [
    "Unlike classification which is a supervised learning method, anomaly/outlier detection is often tackled as an unsupervised learning problem where examples that deviate from the expected behavior of data are detected as anomalies. Datasets containing anomalies generally suffer from class imbalance problem, which we saw earlier in the analysis is the case for this dataset with slight imbalance present. In re-formulating binary classification in imbalanced data as an anomaly detection problem, we can think of the minority class as anomalies in the data and the data belonging to the majority class as regular examples (i.e. not anomalies).\n",
    "\n",
    "Here are some ideas that I have as for how to tackle this data from an outlier detection point of view:\n",
    "\n",
    "### Supervised\n",
    "* Use LSTM/RNN to train a regression (rather than classification) model to perform time series forecast, i.e. predicting feature values in the timeseries data. For each feature in the multivariate time series, make a prediction as for what the next value is going to be - then compare the predicted feature value with the actual value (using groundtruth). Threshold this difference in the two values (would require tuning of this threshold value as a hyperparameter). If the difference exceeds the threshold, that would be indicative of some sort of anomaly/event occuring within the time series and the instance would be detected as an anomaly. For multivariate series, we would also need to come up with a mechanism to combine decisions from the thresholding of the various features in order to label the time series as a whole. The simplest idea would be to do some sort of majority voting, i.e. if the forcasted value for the majority of the features deviates heavily from the actual feature value, label the time series as anomaly.\n",
    "\n",
    "### Unsupervised\n",
    "* Simplest idea is to use clustering techniques such as K-means. A common metric for time series clustering is dynamic time warping (DTW)\n",
    "* SVM's have also been showing to be promising for unsupervised anomaly detection\n"
   ]
  }
 ],
 "metadata": {
  "kernelspec": {
   "display_name": "Python 3",
   "language": "python",
   "name": "python3"
  },
  "language_info": {
   "codemirror_mode": {
    "name": "ipython",
    "version": 3
   },
   "file_extension": ".py",
   "mimetype": "text/x-python",
   "name": "python",
   "nbconvert_exporter": "python",
   "pygments_lexer": "ipython3",
   "version": "3.5.2"
  }
 },
 "nbformat": 4,
 "nbformat_minor": 2
}
